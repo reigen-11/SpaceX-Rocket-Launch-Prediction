{
 "cells": [
  {
   "cell_type": "code",
   "execution_count": 14,
   "metadata": {
    "collapsed": true,
    "ExecuteTime": {
     "end_time": "2023-07-07T11:31:27.799284374Z",
     "start_time": "2023-07-07T11:31:27.756094302Z"
    }
   },
   "outputs": [],
   "source": [
    "import pandas as pd\n",
    "import numpy as np"
   ]
  },
  {
   "cell_type": "code",
   "execution_count": 5,
   "outputs": [
    {
     "data": {
      "text/plain": "    FlightNumber        Date BoosterVersion  PayloadMass Orbit  \\\n0              1  2006-03-24       Falcon 1         20.0   LEO   \n1              2  2007-03-21       Falcon 1          NaN   LEO   \n2              4  2008-09-28       Falcon 1        165.0   LEO   \n3              5  2009-07-13       Falcon 1        200.0   LEO   \n4              6  2010-06-04       Falcon 9          NaN   LEO   \n..           ...         ...            ...          ...   ...   \n89           102  2020-09-03       Falcon 9      15600.0  VLEO   \n90           103  2020-10-06       Falcon 9      15600.0  VLEO   \n91           104  2020-10-18       Falcon 9      15600.0  VLEO   \n92           105  2020-10-24       Falcon 9      15600.0  VLEO   \n93           106  2020-11-05       Falcon 9       3681.0   MEO   \n\n         LaunchSite    Outcome  Flights  GridFins  Reused   Legs  \\\n0   Kwajalein Atoll  None None        1     False   False  False   \n1   Kwajalein Atoll  None None        1     False   False  False   \n2   Kwajalein Atoll  None None        1     False   False  False   \n3   Kwajalein Atoll  None None        1     False   False  False   \n4      CCSFS SLC 40  None None        1     False   False  False   \n..              ...        ...      ...       ...     ...    ...   \n89       KSC LC 39A  True ASDS        2      True    True   True   \n90       KSC LC 39A  True ASDS        3      True    True   True   \n91       KSC LC 39A  True ASDS        6      True    True   True   \n92     CCSFS SLC 40  True ASDS        3      True    True   True   \n93     CCSFS SLC 40  True ASDS        1      True   False   True   \n\n                  LandingPad  Block  ReusedCount    Serial   Longitude  \\\n0                        NaN    NaN            0  Merlin1A  167.743129   \n1                        NaN    NaN            0  Merlin2A  167.743129   \n2                        NaN    NaN            0  Merlin2C  167.743129   \n3                        NaN    NaN            0  Merlin3C  167.743129   \n4                        NaN    1.0            0     B0003  -80.577366   \n..                       ...    ...          ...       ...         ...   \n89  5e9e3032383ecb6bb234e7ca    5.0           12     B1060  -80.603956   \n90  5e9e3032383ecb6bb234e7ca    5.0           13     B1058  -80.603956   \n91  5e9e3032383ecb6bb234e7ca    5.0           12     B1051  -80.603956   \n92  5e9e3033383ecbb9e534e7cc    5.0           12     B1060  -80.577366   \n93  5e9e3032383ecb6bb234e7ca    5.0            8     B1062  -80.577366   \n\n     Latitude  \n0    9.047721  \n1    9.047721  \n2    9.047721  \n3    9.047721  \n4   28.561857  \n..        ...  \n89  28.608058  \n90  28.608058  \n91  28.608058  \n92  28.561857  \n93  28.561857  \n\n[94 rows x 17 columns]",
      "text/html": "<div>\n<style scoped>\n    .dataframe tbody tr th:only-of-type {\n        vertical-align: middle;\n    }\n\n    .dataframe tbody tr th {\n        vertical-align: top;\n    }\n\n    .dataframe thead th {\n        text-align: right;\n    }\n</style>\n<table border=\"1\" class=\"dataframe\">\n  <thead>\n    <tr style=\"text-align: right;\">\n      <th></th>\n      <th>FlightNumber</th>\n      <th>Date</th>\n      <th>BoosterVersion</th>\n      <th>PayloadMass</th>\n      <th>Orbit</th>\n      <th>LaunchSite</th>\n      <th>Outcome</th>\n      <th>Flights</th>\n      <th>GridFins</th>\n      <th>Reused</th>\n      <th>Legs</th>\n      <th>LandingPad</th>\n      <th>Block</th>\n      <th>ReusedCount</th>\n      <th>Serial</th>\n      <th>Longitude</th>\n      <th>Latitude</th>\n    </tr>\n  </thead>\n  <tbody>\n    <tr>\n      <th>0</th>\n      <td>1</td>\n      <td>2006-03-24</td>\n      <td>Falcon 1</td>\n      <td>20.0</td>\n      <td>LEO</td>\n      <td>Kwajalein Atoll</td>\n      <td>None None</td>\n      <td>1</td>\n      <td>False</td>\n      <td>False</td>\n      <td>False</td>\n      <td>NaN</td>\n      <td>NaN</td>\n      <td>0</td>\n      <td>Merlin1A</td>\n      <td>167.743129</td>\n      <td>9.047721</td>\n    </tr>\n    <tr>\n      <th>1</th>\n      <td>2</td>\n      <td>2007-03-21</td>\n      <td>Falcon 1</td>\n      <td>NaN</td>\n      <td>LEO</td>\n      <td>Kwajalein Atoll</td>\n      <td>None None</td>\n      <td>1</td>\n      <td>False</td>\n      <td>False</td>\n      <td>False</td>\n      <td>NaN</td>\n      <td>NaN</td>\n      <td>0</td>\n      <td>Merlin2A</td>\n      <td>167.743129</td>\n      <td>9.047721</td>\n    </tr>\n    <tr>\n      <th>2</th>\n      <td>4</td>\n      <td>2008-09-28</td>\n      <td>Falcon 1</td>\n      <td>165.0</td>\n      <td>LEO</td>\n      <td>Kwajalein Atoll</td>\n      <td>None None</td>\n      <td>1</td>\n      <td>False</td>\n      <td>False</td>\n      <td>False</td>\n      <td>NaN</td>\n      <td>NaN</td>\n      <td>0</td>\n      <td>Merlin2C</td>\n      <td>167.743129</td>\n      <td>9.047721</td>\n    </tr>\n    <tr>\n      <th>3</th>\n      <td>5</td>\n      <td>2009-07-13</td>\n      <td>Falcon 1</td>\n      <td>200.0</td>\n      <td>LEO</td>\n      <td>Kwajalein Atoll</td>\n      <td>None None</td>\n      <td>1</td>\n      <td>False</td>\n      <td>False</td>\n      <td>False</td>\n      <td>NaN</td>\n      <td>NaN</td>\n      <td>0</td>\n      <td>Merlin3C</td>\n      <td>167.743129</td>\n      <td>9.047721</td>\n    </tr>\n    <tr>\n      <th>4</th>\n      <td>6</td>\n      <td>2010-06-04</td>\n      <td>Falcon 9</td>\n      <td>NaN</td>\n      <td>LEO</td>\n      <td>CCSFS SLC 40</td>\n      <td>None None</td>\n      <td>1</td>\n      <td>False</td>\n      <td>False</td>\n      <td>False</td>\n      <td>NaN</td>\n      <td>1.0</td>\n      <td>0</td>\n      <td>B0003</td>\n      <td>-80.577366</td>\n      <td>28.561857</td>\n    </tr>\n    <tr>\n      <th>...</th>\n      <td>...</td>\n      <td>...</td>\n      <td>...</td>\n      <td>...</td>\n      <td>...</td>\n      <td>...</td>\n      <td>...</td>\n      <td>...</td>\n      <td>...</td>\n      <td>...</td>\n      <td>...</td>\n      <td>...</td>\n      <td>...</td>\n      <td>...</td>\n      <td>...</td>\n      <td>...</td>\n      <td>...</td>\n    </tr>\n    <tr>\n      <th>89</th>\n      <td>102</td>\n      <td>2020-09-03</td>\n      <td>Falcon 9</td>\n      <td>15600.0</td>\n      <td>VLEO</td>\n      <td>KSC LC 39A</td>\n      <td>True ASDS</td>\n      <td>2</td>\n      <td>True</td>\n      <td>True</td>\n      <td>True</td>\n      <td>5e9e3032383ecb6bb234e7ca</td>\n      <td>5.0</td>\n      <td>12</td>\n      <td>B1060</td>\n      <td>-80.603956</td>\n      <td>28.608058</td>\n    </tr>\n    <tr>\n      <th>90</th>\n      <td>103</td>\n      <td>2020-10-06</td>\n      <td>Falcon 9</td>\n      <td>15600.0</td>\n      <td>VLEO</td>\n      <td>KSC LC 39A</td>\n      <td>True ASDS</td>\n      <td>3</td>\n      <td>True</td>\n      <td>True</td>\n      <td>True</td>\n      <td>5e9e3032383ecb6bb234e7ca</td>\n      <td>5.0</td>\n      <td>13</td>\n      <td>B1058</td>\n      <td>-80.603956</td>\n      <td>28.608058</td>\n    </tr>\n    <tr>\n      <th>91</th>\n      <td>104</td>\n      <td>2020-10-18</td>\n      <td>Falcon 9</td>\n      <td>15600.0</td>\n      <td>VLEO</td>\n      <td>KSC LC 39A</td>\n      <td>True ASDS</td>\n      <td>6</td>\n      <td>True</td>\n      <td>True</td>\n      <td>True</td>\n      <td>5e9e3032383ecb6bb234e7ca</td>\n      <td>5.0</td>\n      <td>12</td>\n      <td>B1051</td>\n      <td>-80.603956</td>\n      <td>28.608058</td>\n    </tr>\n    <tr>\n      <th>92</th>\n      <td>105</td>\n      <td>2020-10-24</td>\n      <td>Falcon 9</td>\n      <td>15600.0</td>\n      <td>VLEO</td>\n      <td>CCSFS SLC 40</td>\n      <td>True ASDS</td>\n      <td>3</td>\n      <td>True</td>\n      <td>True</td>\n      <td>True</td>\n      <td>5e9e3033383ecbb9e534e7cc</td>\n      <td>5.0</td>\n      <td>12</td>\n      <td>B1060</td>\n      <td>-80.577366</td>\n      <td>28.561857</td>\n    </tr>\n    <tr>\n      <th>93</th>\n      <td>106</td>\n      <td>2020-11-05</td>\n      <td>Falcon 9</td>\n      <td>3681.0</td>\n      <td>MEO</td>\n      <td>CCSFS SLC 40</td>\n      <td>True ASDS</td>\n      <td>1</td>\n      <td>True</td>\n      <td>False</td>\n      <td>True</td>\n      <td>5e9e3032383ecb6bb234e7ca</td>\n      <td>5.0</td>\n      <td>8</td>\n      <td>B1062</td>\n      <td>-80.577366</td>\n      <td>28.561857</td>\n    </tr>\n  </tbody>\n</table>\n<p>94 rows × 17 columns</p>\n</div>"
     },
     "execution_count": 5,
     "metadata": {},
     "output_type": "execute_result"
    }
   ],
   "source": [
    "df = pd.read_csv('/home/aditya/All Github/SpaceX/data/raw/SpaceX_Falcon.csv')\n",
    "df"
   ],
   "metadata": {
    "collapsed": false,
    "ExecuteTime": {
     "end_time": "2023-07-07T11:22:59.991352976Z",
     "start_time": "2023-07-07T11:22:59.973661219Z"
    }
   }
  },
  {
   "cell_type": "code",
   "execution_count": 6,
   "outputs": [
    {
     "name": "stdout",
     "output_type": "stream",
     "text": [
      "<class 'pandas.core.frame.DataFrame'>\n",
      "RangeIndex: 94 entries, 0 to 93\n",
      "Data columns (total 17 columns):\n",
      " #   Column          Non-Null Count  Dtype  \n",
      "---  ------          --------------  -----  \n",
      " 0   FlightNumber    94 non-null     int64  \n",
      " 1   Date            94 non-null     object \n",
      " 2   BoosterVersion  94 non-null     object \n",
      " 3   PayloadMass     88 non-null     float64\n",
      " 4   Orbit           94 non-null     object \n",
      " 5   LaunchSite      94 non-null     object \n",
      " 6   Outcome         94 non-null     object \n",
      " 7   Flights         94 non-null     int64  \n",
      " 8   GridFins        94 non-null     bool   \n",
      " 9   Reused          94 non-null     bool   \n",
      " 10  Legs            94 non-null     bool   \n",
      " 11  LandingPad      64 non-null     object \n",
      " 12  Block           90 non-null     float64\n",
      " 13  ReusedCount     94 non-null     int64  \n",
      " 14  Serial          94 non-null     object \n",
      " 15  Longitude       94 non-null     float64\n",
      " 16  Latitude        94 non-null     float64\n",
      "dtypes: bool(3), float64(4), int64(3), object(7)\n",
      "memory usage: 10.7+ KB\n"
     ]
    }
   ],
   "source": [
    "df.info()"
   ],
   "metadata": {
    "collapsed": false,
    "ExecuteTime": {
     "end_time": "2023-07-07T11:23:21.925424533Z",
     "start_time": "2023-07-07T11:23:21.916408907Z"
    }
   }
  },
  {
   "cell_type": "code",
   "execution_count": 9,
   "outputs": [],
   "source": [
    "df = df.query(\"BoosterVersion == 'Falcon 9'\")"
   ],
   "metadata": {
    "collapsed": false,
    "ExecuteTime": {
     "end_time": "2023-07-07T11:28:52.163552190Z",
     "start_time": "2023-07-07T11:28:52.163032289Z"
    }
   }
  },
  {
   "cell_type": "markdown",
   "source": [
    "# Data Cleaning"
   ],
   "metadata": {
    "collapsed": false
   }
  },
  {
   "cell_type": "code",
   "execution_count": 11,
   "outputs": [
    {
     "data": {
      "text/plain": "BoosterVersion\nFalcon 9    90\nName: count, dtype: int64"
     },
     "execution_count": 11,
     "metadata": {},
     "output_type": "execute_result"
    }
   ],
   "source": [
    "df.BoosterVersion.value_counts()"
   ],
   "metadata": {
    "collapsed": false,
    "ExecuteTime": {
     "end_time": "2023-07-07T11:29:18.415845876Z",
     "start_time": "2023-07-07T11:29:18.372003216Z"
    }
   }
  },
  {
   "cell_type": "code",
   "execution_count": 13,
   "outputs": [
    {
     "data": {
      "text/plain": "FlightNumber       0\nDate               0\nBoosterVersion     0\nPayloadMass        5\nOrbit              0\nLaunchSite         0\nOutcome            0\nFlights            0\nGridFins           0\nReused             0\nLegs               0\nLandingPad        26\nBlock              0\nReusedCount        0\nSerial             0\nLongitude          0\nLatitude           0\ndtype: int64"
     },
     "execution_count": 13,
     "metadata": {},
     "output_type": "execute_result"
    }
   ],
   "source": [
    "df.isnull().sum()"
   ],
   "metadata": {
    "collapsed": false,
    "ExecuteTime": {
     "end_time": "2023-07-07T11:30:19.439271107Z",
     "start_time": "2023-07-07T11:30:19.397308467Z"
    }
   }
  },
  {
   "cell_type": "code",
   "execution_count": 19,
   "outputs": [
    {
     "data": {
      "text/plain": "    FlightNumber        Date BoosterVersion  PayloadMass  Orbit    LaunchSite  \\\n4              6  2010-06-04       Falcon 9          NaN    LEO  CCSFS SLC 40   \n5              8  2012-05-22       Falcon 9       525.00    LEO  CCSFS SLC 40   \n6             10  2013-03-01       Falcon 9       677.00    ISS  CCSFS SLC 40   \n7             11  2013-09-29       Falcon 9       500.00     PO   VAFB SLC 4E   \n8             12  2013-12-03       Falcon 9      3170.00    GTO  CCSFS SLC 40   \n9             13  2014-01-06       Falcon 9      3325.00    GTO  CCSFS SLC 40   \n10            14  2014-04-18       Falcon 9      2296.00    ISS  CCSFS SLC 40   \n11            15  2014-07-14       Falcon 9      1316.00    LEO  CCSFS SLC 40   \n12            16  2014-08-05       Falcon 9      4535.00    GTO  CCSFS SLC 40   \n13            17  2014-09-07       Falcon 9      4428.00    GTO  CCSFS SLC 40   \n14            18  2014-09-21       Falcon 9      2216.00    ISS  CCSFS SLC 40   \n16            20  2015-02-11       Falcon 9       570.00  ES-L1  CCSFS SLC 40   \n18            23  2015-04-27       Falcon 9      4707.00    GTO  CCSFS SLC 40   \n31            37  2017-03-16       Falcon 9      5600.00    GTO    KSC LC 39A   \n34            40  2017-05-15       Falcon 9      6070.00    GTO    KSC LC 39A   \n38            44  2017-07-05       Falcon 9      6761.00    GTO    KSC LC 39A   \n46            52  2017-12-23       Falcon 9      9600.00     PO   VAFB SLC 4E   \n48            54  2018-01-31       Falcon 9      4230.00    GTO  CCSFS SLC 40   \n49            57  2018-03-06       Falcon 9      6092.00    GTO  CCSFS SLC 40   \n50            58  2018-03-30       Falcon 9      9600.00     PO   VAFB SLC 4E   \n51            59  2018-04-02       Falcon 9      2760.00    ISS  CCSFS SLC 40   \n54            63  2018-06-04       Falcon 9      5383.85    GTO  CCSFS SLC 40   \n55            64  2018-06-29       Falcon 9      2410.00    ISS  CCSFS SLC 40   \n64            73  2018-12-23       Falcon 9      4400.00    MEO  CCSFS SLC 40   \n71            83  2019-08-06       Falcon 9      6500.00    GTO  CCSFS SLC 40   \n76            88  2020-01-19       Falcon 9          NaN     SO    KSC LC 39A   \n\n        Outcome  Flights  GridFins  Reused   Legs LandingPad  Block  \\\n4     None None        1     False   False  False        NaN    1.0   \n5     None None        1     False   False  False        NaN    1.0   \n6     None None        1     False   False  False        NaN    1.0   \n7   False Ocean        1     False   False  False        NaN    1.0   \n8     None None        1     False   False  False        NaN    1.0   \n9     None None        1     False   False  False        NaN    1.0   \n10   True Ocean        1     False   False   True        NaN    1.0   \n11   True Ocean        1     False   False   True        NaN    1.0   \n12    None None        1     False   False  False        NaN    1.0   \n13    None None        1     False   False  False        NaN    1.0   \n14  False Ocean        1     False   False  False        NaN    1.0   \n16   True Ocean        1      True   False   True        NaN    1.0   \n18    None None        1     False   False  False        NaN    1.0   \n31    None None        1     False   False  False        NaN    3.0   \n34    None None        1     False   False  False        NaN    3.0   \n38    None None        1     False   False  False        NaN    3.0   \n46   True Ocean        2      True    True  False        NaN    3.0   \n48   True Ocean        2      True    True   True        NaN    3.0   \n49    None None        1      True   False   True        NaN    4.0   \n50    None None        2      True    True   True        NaN    4.0   \n51    None None        2      True    True   True        NaN    4.0   \n54    None None        2     False    True  False        NaN    4.0   \n55    None None        2     False    True  False        NaN    4.0   \n64    None None        1     False   False  False        NaN    5.0   \n71    None None        3     False    True  False        NaN    5.0   \n76    None None        4     False    True  False        NaN    5.0   \n\n    ReusedCount Serial   Longitude   Latitude  \n4             0  B0003  -80.577366  28.561857  \n5             0  B0005  -80.577366  28.561857  \n6             0  B0007  -80.577366  28.561857  \n7             0  B1003 -120.610829  34.632093  \n8             0  B1004  -80.577366  28.561857  \n9             0  B1005  -80.577366  28.561857  \n10            0  B1006  -80.577366  28.561857  \n11            0  B1007  -80.577366  28.561857  \n12            0  B1008  -80.577366  28.561857  \n13            0  B1011  -80.577366  28.561857  \n14            0  B1010  -80.577366  28.561857  \n16            0  B1013  -80.577366  28.561857  \n18            0  B1016  -80.577366  28.561857  \n31            0  B1030  -80.603956  28.608058  \n34            0  B1034  -80.603956  28.608058  \n38            0  B1037  -80.603956  28.608058  \n46            1  B1036 -120.610829  34.632093  \n48            1  B1032  -80.577366  28.561857  \n49            0  B1044  -80.577366  28.561857  \n50            1  B1041 -120.610829  34.632093  \n51            1  B1039  -80.577366  28.561857  \n54            1  B1040  -80.577366  28.561857  \n55            1  B1045  -80.577366  28.561857  \n64            0  B1054  -80.577366  28.561857  \n71            2  B1047  -80.577366  28.561857  \n76            3  B1046  -80.603956  28.608058  ",
      "text/html": "<div>\n<style scoped>\n    .dataframe tbody tr th:only-of-type {\n        vertical-align: middle;\n    }\n\n    .dataframe tbody tr th {\n        vertical-align: top;\n    }\n\n    .dataframe thead th {\n        text-align: right;\n    }\n</style>\n<table border=\"1\" class=\"dataframe\">\n  <thead>\n    <tr style=\"text-align: right;\">\n      <th></th>\n      <th>FlightNumber</th>\n      <th>Date</th>\n      <th>BoosterVersion</th>\n      <th>PayloadMass</th>\n      <th>Orbit</th>\n      <th>LaunchSite</th>\n      <th>Outcome</th>\n      <th>Flights</th>\n      <th>GridFins</th>\n      <th>Reused</th>\n      <th>Legs</th>\n      <th>LandingPad</th>\n      <th>Block</th>\n      <th>ReusedCount</th>\n      <th>Serial</th>\n      <th>Longitude</th>\n      <th>Latitude</th>\n    </tr>\n  </thead>\n  <tbody>\n    <tr>\n      <th>4</th>\n      <td>6</td>\n      <td>2010-06-04</td>\n      <td>Falcon 9</td>\n      <td>NaN</td>\n      <td>LEO</td>\n      <td>CCSFS SLC 40</td>\n      <td>None None</td>\n      <td>1</td>\n      <td>False</td>\n      <td>False</td>\n      <td>False</td>\n      <td>NaN</td>\n      <td>1.0</td>\n      <td>0</td>\n      <td>B0003</td>\n      <td>-80.577366</td>\n      <td>28.561857</td>\n    </tr>\n    <tr>\n      <th>5</th>\n      <td>8</td>\n      <td>2012-05-22</td>\n      <td>Falcon 9</td>\n      <td>525.00</td>\n      <td>LEO</td>\n      <td>CCSFS SLC 40</td>\n      <td>None None</td>\n      <td>1</td>\n      <td>False</td>\n      <td>False</td>\n      <td>False</td>\n      <td>NaN</td>\n      <td>1.0</td>\n      <td>0</td>\n      <td>B0005</td>\n      <td>-80.577366</td>\n      <td>28.561857</td>\n    </tr>\n    <tr>\n      <th>6</th>\n      <td>10</td>\n      <td>2013-03-01</td>\n      <td>Falcon 9</td>\n      <td>677.00</td>\n      <td>ISS</td>\n      <td>CCSFS SLC 40</td>\n      <td>None None</td>\n      <td>1</td>\n      <td>False</td>\n      <td>False</td>\n      <td>False</td>\n      <td>NaN</td>\n      <td>1.0</td>\n      <td>0</td>\n      <td>B0007</td>\n      <td>-80.577366</td>\n      <td>28.561857</td>\n    </tr>\n    <tr>\n      <th>7</th>\n      <td>11</td>\n      <td>2013-09-29</td>\n      <td>Falcon 9</td>\n      <td>500.00</td>\n      <td>PO</td>\n      <td>VAFB SLC 4E</td>\n      <td>False Ocean</td>\n      <td>1</td>\n      <td>False</td>\n      <td>False</td>\n      <td>False</td>\n      <td>NaN</td>\n      <td>1.0</td>\n      <td>0</td>\n      <td>B1003</td>\n      <td>-120.610829</td>\n      <td>34.632093</td>\n    </tr>\n    <tr>\n      <th>8</th>\n      <td>12</td>\n      <td>2013-12-03</td>\n      <td>Falcon 9</td>\n      <td>3170.00</td>\n      <td>GTO</td>\n      <td>CCSFS SLC 40</td>\n      <td>None None</td>\n      <td>1</td>\n      <td>False</td>\n      <td>False</td>\n      <td>False</td>\n      <td>NaN</td>\n      <td>1.0</td>\n      <td>0</td>\n      <td>B1004</td>\n      <td>-80.577366</td>\n      <td>28.561857</td>\n    </tr>\n    <tr>\n      <th>9</th>\n      <td>13</td>\n      <td>2014-01-06</td>\n      <td>Falcon 9</td>\n      <td>3325.00</td>\n      <td>GTO</td>\n      <td>CCSFS SLC 40</td>\n      <td>None None</td>\n      <td>1</td>\n      <td>False</td>\n      <td>False</td>\n      <td>False</td>\n      <td>NaN</td>\n      <td>1.0</td>\n      <td>0</td>\n      <td>B1005</td>\n      <td>-80.577366</td>\n      <td>28.561857</td>\n    </tr>\n    <tr>\n      <th>10</th>\n      <td>14</td>\n      <td>2014-04-18</td>\n      <td>Falcon 9</td>\n      <td>2296.00</td>\n      <td>ISS</td>\n      <td>CCSFS SLC 40</td>\n      <td>True Ocean</td>\n      <td>1</td>\n      <td>False</td>\n      <td>False</td>\n      <td>True</td>\n      <td>NaN</td>\n      <td>1.0</td>\n      <td>0</td>\n      <td>B1006</td>\n      <td>-80.577366</td>\n      <td>28.561857</td>\n    </tr>\n    <tr>\n      <th>11</th>\n      <td>15</td>\n      <td>2014-07-14</td>\n      <td>Falcon 9</td>\n      <td>1316.00</td>\n      <td>LEO</td>\n      <td>CCSFS SLC 40</td>\n      <td>True Ocean</td>\n      <td>1</td>\n      <td>False</td>\n      <td>False</td>\n      <td>True</td>\n      <td>NaN</td>\n      <td>1.0</td>\n      <td>0</td>\n      <td>B1007</td>\n      <td>-80.577366</td>\n      <td>28.561857</td>\n    </tr>\n    <tr>\n      <th>12</th>\n      <td>16</td>\n      <td>2014-08-05</td>\n      <td>Falcon 9</td>\n      <td>4535.00</td>\n      <td>GTO</td>\n      <td>CCSFS SLC 40</td>\n      <td>None None</td>\n      <td>1</td>\n      <td>False</td>\n      <td>False</td>\n      <td>False</td>\n      <td>NaN</td>\n      <td>1.0</td>\n      <td>0</td>\n      <td>B1008</td>\n      <td>-80.577366</td>\n      <td>28.561857</td>\n    </tr>\n    <tr>\n      <th>13</th>\n      <td>17</td>\n      <td>2014-09-07</td>\n      <td>Falcon 9</td>\n      <td>4428.00</td>\n      <td>GTO</td>\n      <td>CCSFS SLC 40</td>\n      <td>None None</td>\n      <td>1</td>\n      <td>False</td>\n      <td>False</td>\n      <td>False</td>\n      <td>NaN</td>\n      <td>1.0</td>\n      <td>0</td>\n      <td>B1011</td>\n      <td>-80.577366</td>\n      <td>28.561857</td>\n    </tr>\n    <tr>\n      <th>14</th>\n      <td>18</td>\n      <td>2014-09-21</td>\n      <td>Falcon 9</td>\n      <td>2216.00</td>\n      <td>ISS</td>\n      <td>CCSFS SLC 40</td>\n      <td>False Ocean</td>\n      <td>1</td>\n      <td>False</td>\n      <td>False</td>\n      <td>False</td>\n      <td>NaN</td>\n      <td>1.0</td>\n      <td>0</td>\n      <td>B1010</td>\n      <td>-80.577366</td>\n      <td>28.561857</td>\n    </tr>\n    <tr>\n      <th>16</th>\n      <td>20</td>\n      <td>2015-02-11</td>\n      <td>Falcon 9</td>\n      <td>570.00</td>\n      <td>ES-L1</td>\n      <td>CCSFS SLC 40</td>\n      <td>True Ocean</td>\n      <td>1</td>\n      <td>True</td>\n      <td>False</td>\n      <td>True</td>\n      <td>NaN</td>\n      <td>1.0</td>\n      <td>0</td>\n      <td>B1013</td>\n      <td>-80.577366</td>\n      <td>28.561857</td>\n    </tr>\n    <tr>\n      <th>18</th>\n      <td>23</td>\n      <td>2015-04-27</td>\n      <td>Falcon 9</td>\n      <td>4707.00</td>\n      <td>GTO</td>\n      <td>CCSFS SLC 40</td>\n      <td>None None</td>\n      <td>1</td>\n      <td>False</td>\n      <td>False</td>\n      <td>False</td>\n      <td>NaN</td>\n      <td>1.0</td>\n      <td>0</td>\n      <td>B1016</td>\n      <td>-80.577366</td>\n      <td>28.561857</td>\n    </tr>\n    <tr>\n      <th>31</th>\n      <td>37</td>\n      <td>2017-03-16</td>\n      <td>Falcon 9</td>\n      <td>5600.00</td>\n      <td>GTO</td>\n      <td>KSC LC 39A</td>\n      <td>None None</td>\n      <td>1</td>\n      <td>False</td>\n      <td>False</td>\n      <td>False</td>\n      <td>NaN</td>\n      <td>3.0</td>\n      <td>0</td>\n      <td>B1030</td>\n      <td>-80.603956</td>\n      <td>28.608058</td>\n    </tr>\n    <tr>\n      <th>34</th>\n      <td>40</td>\n      <td>2017-05-15</td>\n      <td>Falcon 9</td>\n      <td>6070.00</td>\n      <td>GTO</td>\n      <td>KSC LC 39A</td>\n      <td>None None</td>\n      <td>1</td>\n      <td>False</td>\n      <td>False</td>\n      <td>False</td>\n      <td>NaN</td>\n      <td>3.0</td>\n      <td>0</td>\n      <td>B1034</td>\n      <td>-80.603956</td>\n      <td>28.608058</td>\n    </tr>\n    <tr>\n      <th>38</th>\n      <td>44</td>\n      <td>2017-07-05</td>\n      <td>Falcon 9</td>\n      <td>6761.00</td>\n      <td>GTO</td>\n      <td>KSC LC 39A</td>\n      <td>None None</td>\n      <td>1</td>\n      <td>False</td>\n      <td>False</td>\n      <td>False</td>\n      <td>NaN</td>\n      <td>3.0</td>\n      <td>0</td>\n      <td>B1037</td>\n      <td>-80.603956</td>\n      <td>28.608058</td>\n    </tr>\n    <tr>\n      <th>46</th>\n      <td>52</td>\n      <td>2017-12-23</td>\n      <td>Falcon 9</td>\n      <td>9600.00</td>\n      <td>PO</td>\n      <td>VAFB SLC 4E</td>\n      <td>True Ocean</td>\n      <td>2</td>\n      <td>True</td>\n      <td>True</td>\n      <td>False</td>\n      <td>NaN</td>\n      <td>3.0</td>\n      <td>1</td>\n      <td>B1036</td>\n      <td>-120.610829</td>\n      <td>34.632093</td>\n    </tr>\n    <tr>\n      <th>48</th>\n      <td>54</td>\n      <td>2018-01-31</td>\n      <td>Falcon 9</td>\n      <td>4230.00</td>\n      <td>GTO</td>\n      <td>CCSFS SLC 40</td>\n      <td>True Ocean</td>\n      <td>2</td>\n      <td>True</td>\n      <td>True</td>\n      <td>True</td>\n      <td>NaN</td>\n      <td>3.0</td>\n      <td>1</td>\n      <td>B1032</td>\n      <td>-80.577366</td>\n      <td>28.561857</td>\n    </tr>\n    <tr>\n      <th>49</th>\n      <td>57</td>\n      <td>2018-03-06</td>\n      <td>Falcon 9</td>\n      <td>6092.00</td>\n      <td>GTO</td>\n      <td>CCSFS SLC 40</td>\n      <td>None None</td>\n      <td>1</td>\n      <td>True</td>\n      <td>False</td>\n      <td>True</td>\n      <td>NaN</td>\n      <td>4.0</td>\n      <td>0</td>\n      <td>B1044</td>\n      <td>-80.577366</td>\n      <td>28.561857</td>\n    </tr>\n    <tr>\n      <th>50</th>\n      <td>58</td>\n      <td>2018-03-30</td>\n      <td>Falcon 9</td>\n      <td>9600.00</td>\n      <td>PO</td>\n      <td>VAFB SLC 4E</td>\n      <td>None None</td>\n      <td>2</td>\n      <td>True</td>\n      <td>True</td>\n      <td>True</td>\n      <td>NaN</td>\n      <td>4.0</td>\n      <td>1</td>\n      <td>B1041</td>\n      <td>-120.610829</td>\n      <td>34.632093</td>\n    </tr>\n    <tr>\n      <th>51</th>\n      <td>59</td>\n      <td>2018-04-02</td>\n      <td>Falcon 9</td>\n      <td>2760.00</td>\n      <td>ISS</td>\n      <td>CCSFS SLC 40</td>\n      <td>None None</td>\n      <td>2</td>\n      <td>True</td>\n      <td>True</td>\n      <td>True</td>\n      <td>NaN</td>\n      <td>4.0</td>\n      <td>1</td>\n      <td>B1039</td>\n      <td>-80.577366</td>\n      <td>28.561857</td>\n    </tr>\n    <tr>\n      <th>54</th>\n      <td>63</td>\n      <td>2018-06-04</td>\n      <td>Falcon 9</td>\n      <td>5383.85</td>\n      <td>GTO</td>\n      <td>CCSFS SLC 40</td>\n      <td>None None</td>\n      <td>2</td>\n      <td>False</td>\n      <td>True</td>\n      <td>False</td>\n      <td>NaN</td>\n      <td>4.0</td>\n      <td>1</td>\n      <td>B1040</td>\n      <td>-80.577366</td>\n      <td>28.561857</td>\n    </tr>\n    <tr>\n      <th>55</th>\n      <td>64</td>\n      <td>2018-06-29</td>\n      <td>Falcon 9</td>\n      <td>2410.00</td>\n      <td>ISS</td>\n      <td>CCSFS SLC 40</td>\n      <td>None None</td>\n      <td>2</td>\n      <td>False</td>\n      <td>True</td>\n      <td>False</td>\n      <td>NaN</td>\n      <td>4.0</td>\n      <td>1</td>\n      <td>B1045</td>\n      <td>-80.577366</td>\n      <td>28.561857</td>\n    </tr>\n    <tr>\n      <th>64</th>\n      <td>73</td>\n      <td>2018-12-23</td>\n      <td>Falcon 9</td>\n      <td>4400.00</td>\n      <td>MEO</td>\n      <td>CCSFS SLC 40</td>\n      <td>None None</td>\n      <td>1</td>\n      <td>False</td>\n      <td>False</td>\n      <td>False</td>\n      <td>NaN</td>\n      <td>5.0</td>\n      <td>0</td>\n      <td>B1054</td>\n      <td>-80.577366</td>\n      <td>28.561857</td>\n    </tr>\n    <tr>\n      <th>71</th>\n      <td>83</td>\n      <td>2019-08-06</td>\n      <td>Falcon 9</td>\n      <td>6500.00</td>\n      <td>GTO</td>\n      <td>CCSFS SLC 40</td>\n      <td>None None</td>\n      <td>3</td>\n      <td>False</td>\n      <td>True</td>\n      <td>False</td>\n      <td>NaN</td>\n      <td>5.0</td>\n      <td>2</td>\n      <td>B1047</td>\n      <td>-80.577366</td>\n      <td>28.561857</td>\n    </tr>\n    <tr>\n      <th>76</th>\n      <td>88</td>\n      <td>2020-01-19</td>\n      <td>Falcon 9</td>\n      <td>NaN</td>\n      <td>SO</td>\n      <td>KSC LC 39A</td>\n      <td>None None</td>\n      <td>4</td>\n      <td>False</td>\n      <td>True</td>\n      <td>False</td>\n      <td>NaN</td>\n      <td>5.0</td>\n      <td>3</td>\n      <td>B1046</td>\n      <td>-80.603956</td>\n      <td>28.608058</td>\n    </tr>\n  </tbody>\n</table>\n</div>"
     },
     "execution_count": 19,
     "metadata": {},
     "output_type": "execute_result"
    }
   ],
   "source": [
    "no_landing_pads = df[pd.isna(df.LandingPad)]\n",
    "no_landing_pads"
   ],
   "metadata": {
    "collapsed": false,
    "ExecuteTime": {
     "end_time": "2023-07-07T11:36:03.179130144Z",
     "start_time": "2023-07-07T11:36:03.137084433Z"
    }
   }
  },
  {
   "cell_type": "code",
   "execution_count": 24,
   "outputs": [
    {
     "data": {
      "text/plain": "Outcome\nNone None      19\nTrue Ocean      5\nFalse Ocean     2\nName: count, dtype: int64"
     },
     "execution_count": 24,
     "metadata": {},
     "output_type": "execute_result"
    }
   ],
   "source": [
    "no_landing_pads.Outcome.value_counts()"
   ],
   "metadata": {
    "collapsed": false,
    "ExecuteTime": {
     "end_time": "2023-07-07T11:52:29.612578042Z",
     "start_time": "2023-07-07T11:52:29.611217052Z"
    }
   }
  },
  {
   "cell_type": "code",
   "execution_count": 42,
   "outputs": [],
   "source": [
    "df.loc[df['Outcome'].str.contains('Ocean'), 'LandingPad'] = df.loc[df['Outcome'].str.contains('Ocean'), 'LandingPad'].fillna('Ocean')"
   ],
   "metadata": {
    "collapsed": false,
    "ExecuteTime": {
     "end_time": "2023-07-07T12:10:02.259247448Z",
     "start_time": "2023-07-07T12:10:02.212472815Z"
    }
   }
  },
  {
   "cell_type": "code",
   "execution_count": 77,
   "outputs": [],
   "source": [
    "df.loc[:,'LandingPad'] = df.LandingPad.fillna(0)"
   ],
   "metadata": {
    "collapsed": false,
    "ExecuteTime": {
     "end_time": "2023-07-07T13:32:19.879061035Z",
     "start_time": "2023-07-07T13:32:19.837403761Z"
    }
   }
  },
  {
   "cell_type": "code",
   "execution_count": 53,
   "outputs": [
    {
     "data": {
      "text/plain": "FlightNumber      0\nDate              0\nBoosterVersion    0\nPayloadMass       5\nOrbit             0\nLaunchSite        0\nOutcome           0\nFlights           0\nGridFins          0\nReused            0\nLegs              0\nLandingPad        0\nBlock             0\nReusedCount       0\nSerial            0\nLongitude         0\nLatitude          0\ndtype: int64"
     },
     "execution_count": 53,
     "metadata": {},
     "output_type": "execute_result"
    }
   ],
   "source": [
    "df.isnull().sum()"
   ],
   "metadata": {
    "collapsed": false,
    "ExecuteTime": {
     "end_time": "2023-07-07T13:00:20.403128575Z",
     "start_time": "2023-07-07T13:00:20.361159181Z"
    }
   }
  },
  {
   "cell_type": "code",
   "execution_count": 55,
   "outputs": [
    {
     "data": {
      "text/plain": "4         NaN\n5       525.0\n6       677.0\n7       500.0\n8      3170.0\n       ...   \n89    15600.0\n90    15600.0\n91    15600.0\n92    15600.0\n93     3681.0\nName: PayloadMass, Length: 90, dtype: float64"
     },
     "execution_count": 55,
     "metadata": {},
     "output_type": "execute_result"
    }
   ],
   "source": [
    "df.PayloadMass"
   ],
   "metadata": {
    "collapsed": false,
    "ExecuteTime": {
     "end_time": "2023-07-07T13:01:08.148510909Z",
     "start_time": "2023-07-07T13:01:08.145924705Z"
    }
   }
  },
  {
   "cell_type": "code",
   "execution_count": 54,
   "outputs": [
    {
     "data": {
      "text/plain": "    FlightNumber        Date BoosterVersion  PayloadMass Orbit    LaunchSite  \\\n4              6  2010-06-04       Falcon 9          NaN   LEO  CCSFS SLC 40   \n33            39  2017-05-01       Falcon 9          NaN   LEO    KSC LC 39A   \n47            53  2018-01-08       Falcon 9          NaN   LEO  CCSFS SLC 40   \n76            88  2020-01-19       Falcon 9          NaN    SO    KSC LC 39A   \n86            98  2020-07-20       Falcon 9          NaN   GEO  CCSFS SLC 40   \n\n      Outcome  Flights  GridFins  Reused   Legs                LandingPad  \\\n4   None None        1     False   False  False                         0   \n33  True RTLS        1      True   False   True  5e9e3032383ecb267a34e7c7   \n47  True RTLS        1      True   False   True  5e9e3032383ecb267a34e7c7   \n76  None None        4     False    True  False                         0   \n86  True ASDS        2      True    True   True  5e9e3033383ecbb9e534e7cc   \n\n    Block  ReusedCount Serial  Longitude   Latitude  \n4     1.0            0  B0003 -80.577366  28.561857  \n33    3.0            1  B1032 -80.603956  28.608058  \n47    4.0            1  B1043 -80.577366  28.561857  \n76    5.0            3  B1046 -80.603956  28.608058  \n86    5.0           13  B1058 -80.577366  28.561857  ",
      "text/html": "<div>\n<style scoped>\n    .dataframe tbody tr th:only-of-type {\n        vertical-align: middle;\n    }\n\n    .dataframe tbody tr th {\n        vertical-align: top;\n    }\n\n    .dataframe thead th {\n        text-align: right;\n    }\n</style>\n<table border=\"1\" class=\"dataframe\">\n  <thead>\n    <tr style=\"text-align: right;\">\n      <th></th>\n      <th>FlightNumber</th>\n      <th>Date</th>\n      <th>BoosterVersion</th>\n      <th>PayloadMass</th>\n      <th>Orbit</th>\n      <th>LaunchSite</th>\n      <th>Outcome</th>\n      <th>Flights</th>\n      <th>GridFins</th>\n      <th>Reused</th>\n      <th>Legs</th>\n      <th>LandingPad</th>\n      <th>Block</th>\n      <th>ReusedCount</th>\n      <th>Serial</th>\n      <th>Longitude</th>\n      <th>Latitude</th>\n    </tr>\n  </thead>\n  <tbody>\n    <tr>\n      <th>4</th>\n      <td>6</td>\n      <td>2010-06-04</td>\n      <td>Falcon 9</td>\n      <td>NaN</td>\n      <td>LEO</td>\n      <td>CCSFS SLC 40</td>\n      <td>None None</td>\n      <td>1</td>\n      <td>False</td>\n      <td>False</td>\n      <td>False</td>\n      <td>0</td>\n      <td>1.0</td>\n      <td>0</td>\n      <td>B0003</td>\n      <td>-80.577366</td>\n      <td>28.561857</td>\n    </tr>\n    <tr>\n      <th>33</th>\n      <td>39</td>\n      <td>2017-05-01</td>\n      <td>Falcon 9</td>\n      <td>NaN</td>\n      <td>LEO</td>\n      <td>KSC LC 39A</td>\n      <td>True RTLS</td>\n      <td>1</td>\n      <td>True</td>\n      <td>False</td>\n      <td>True</td>\n      <td>5e9e3032383ecb267a34e7c7</td>\n      <td>3.0</td>\n      <td>1</td>\n      <td>B1032</td>\n      <td>-80.603956</td>\n      <td>28.608058</td>\n    </tr>\n    <tr>\n      <th>47</th>\n      <td>53</td>\n      <td>2018-01-08</td>\n      <td>Falcon 9</td>\n      <td>NaN</td>\n      <td>LEO</td>\n      <td>CCSFS SLC 40</td>\n      <td>True RTLS</td>\n      <td>1</td>\n      <td>True</td>\n      <td>False</td>\n      <td>True</td>\n      <td>5e9e3032383ecb267a34e7c7</td>\n      <td>4.0</td>\n      <td>1</td>\n      <td>B1043</td>\n      <td>-80.577366</td>\n      <td>28.561857</td>\n    </tr>\n    <tr>\n      <th>76</th>\n      <td>88</td>\n      <td>2020-01-19</td>\n      <td>Falcon 9</td>\n      <td>NaN</td>\n      <td>SO</td>\n      <td>KSC LC 39A</td>\n      <td>None None</td>\n      <td>4</td>\n      <td>False</td>\n      <td>True</td>\n      <td>False</td>\n      <td>0</td>\n      <td>5.0</td>\n      <td>3</td>\n      <td>B1046</td>\n      <td>-80.603956</td>\n      <td>28.608058</td>\n    </tr>\n    <tr>\n      <th>86</th>\n      <td>98</td>\n      <td>2020-07-20</td>\n      <td>Falcon 9</td>\n      <td>NaN</td>\n      <td>GEO</td>\n      <td>CCSFS SLC 40</td>\n      <td>True ASDS</td>\n      <td>2</td>\n      <td>True</td>\n      <td>True</td>\n      <td>True</td>\n      <td>5e9e3033383ecbb9e534e7cc</td>\n      <td>5.0</td>\n      <td>13</td>\n      <td>B1058</td>\n      <td>-80.577366</td>\n      <td>28.561857</td>\n    </tr>\n  </tbody>\n</table>\n</div>"
     },
     "execution_count": 54,
     "metadata": {},
     "output_type": "execute_result"
    }
   ],
   "source": [
    "df[pd.isna(df.PayloadMass)]"
   ],
   "metadata": {
    "collapsed": false,
    "ExecuteTime": {
     "end_time": "2023-07-07T13:00:53.825658327Z",
     "start_time": "2023-07-07T13:00:53.820789758Z"
    }
   }
  },
  {
   "cell_type": "code",
   "execution_count": 75,
   "outputs": [],
   "source": [
    "df.loc[:, 'PayloadMass'] = df['PayloadMass'].fillna(0)"
   ],
   "metadata": {
    "collapsed": false,
    "ExecuteTime": {
     "end_time": "2023-07-07T13:31:43.820482742Z",
     "start_time": "2023-07-07T13:31:43.814641013Z"
    }
   }
  },
  {
   "cell_type": "code",
   "execution_count": 76,
   "outputs": [
    {
     "data": {
      "text/plain": "FlightNumber      0\nDate              0\nBoosterVersion    0\nPayloadMass       0\nOrbit             0\nLaunchSite        0\nOutcome           0\nFlights           0\nGridFins          0\nReused            0\nLegs              0\nLandingPad        0\nBlock             0\nReusedCount       0\nSerial            0\nLongitude         0\nLatitude          0\ndtype: int64"
     },
     "execution_count": 76,
     "metadata": {},
     "output_type": "execute_result"
    }
   ],
   "source": [
    "df.isnull().sum()"
   ],
   "metadata": {
    "collapsed": false,
    "ExecuteTime": {
     "end_time": "2023-07-07T13:31:45.812328238Z",
     "start_time": "2023-07-07T13:31:45.810157649Z"
    }
   }
  },
  {
   "cell_type": "code",
   "execution_count": 62,
   "outputs": [
    {
     "name": "stdout",
     "output_type": "stream",
     "text": [
      "<class 'pandas.core.frame.DataFrame'>\n",
      "Index: 90 entries, 4 to 93\n",
      "Data columns (total 17 columns):\n",
      " #   Column          Non-Null Count  Dtype  \n",
      "---  ------          --------------  -----  \n",
      " 0   FlightNumber    90 non-null     int64  \n",
      " 1   Date            90 non-null     object \n",
      " 2   BoosterVersion  90 non-null     object \n",
      " 3   PayloadMass     90 non-null     float64\n",
      " 4   Orbit           90 non-null     object \n",
      " 5   LaunchSite      90 non-null     object \n",
      " 6   Outcome         90 non-null     object \n",
      " 7   Flights         90 non-null     int64  \n",
      " 8   GridFins        90 non-null     bool   \n",
      " 9   Reused          90 non-null     bool   \n",
      " 10  Legs            90 non-null     bool   \n",
      " 11  LandingPad      90 non-null     object \n",
      " 12  Block           90 non-null     float64\n",
      " 13  ReusedCount     90 non-null     int64  \n",
      " 14  Serial          90 non-null     object \n",
      " 15  Longitude       90 non-null     float64\n",
      " 16  Latitude        90 non-null     float64\n",
      "dtypes: bool(3), float64(4), int64(3), object(7)\n",
      "memory usage: 10.8+ KB\n"
     ]
    }
   ],
   "source": [
    "df.info()"
   ],
   "metadata": {
    "collapsed": false,
    "ExecuteTime": {
     "end_time": "2023-07-07T13:08:05.587933883Z",
     "start_time": "2023-07-07T13:08:05.582413480Z"
    }
   }
  },
  {
   "cell_type": "code",
   "execution_count": 63,
   "outputs": [
    {
     "data": {
      "text/plain": "    FlightNumber        Date BoosterVersion  PayloadMass Orbit    LaunchSite  \\\n4              6  2010-06-04       Falcon 9          0.0   LEO  CCSFS SLC 40   \n5              8  2012-05-22       Falcon 9        525.0   LEO  CCSFS SLC 40   \n6             10  2013-03-01       Falcon 9        677.0   ISS  CCSFS SLC 40   \n7             11  2013-09-29       Falcon 9        500.0    PO   VAFB SLC 4E   \n8             12  2013-12-03       Falcon 9       3170.0   GTO  CCSFS SLC 40   \n..           ...         ...            ...          ...   ...           ...   \n89           102  2020-09-03       Falcon 9      15600.0  VLEO    KSC LC 39A   \n90           103  2020-10-06       Falcon 9      15600.0  VLEO    KSC LC 39A   \n91           104  2020-10-18       Falcon 9      15600.0  VLEO    KSC LC 39A   \n92           105  2020-10-24       Falcon 9      15600.0  VLEO  CCSFS SLC 40   \n93           106  2020-11-05       Falcon 9       3681.0   MEO  CCSFS SLC 40   \n\n        Outcome  Flights  GridFins  Reused   Legs                LandingPad  \\\n4     None None        1     False   False  False                         0   \n5     None None        1     False   False  False                         0   \n6     None None        1     False   False  False                         0   \n7   False Ocean        1     False   False  False                     Ocean   \n8     None None        1     False   False  False                         0   \n..          ...      ...       ...     ...    ...                       ...   \n89    True ASDS        2      True    True   True  5e9e3032383ecb6bb234e7ca   \n90    True ASDS        3      True    True   True  5e9e3032383ecb6bb234e7ca   \n91    True ASDS        6      True    True   True  5e9e3032383ecb6bb234e7ca   \n92    True ASDS        3      True    True   True  5e9e3033383ecbb9e534e7cc   \n93    True ASDS        1      True   False   True  5e9e3032383ecb6bb234e7ca   \n\n    Block  ReusedCount Serial   Longitude   Latitude  \n4     1.0            0  B0003  -80.577366  28.561857  \n5     1.0            0  B0005  -80.577366  28.561857  \n6     1.0            0  B0007  -80.577366  28.561857  \n7     1.0            0  B1003 -120.610829  34.632093  \n8     1.0            0  B1004  -80.577366  28.561857  \n..    ...          ...    ...         ...        ...  \n89    5.0           12  B1060  -80.603956  28.608058  \n90    5.0           13  B1058  -80.603956  28.608058  \n91    5.0           12  B1051  -80.603956  28.608058  \n92    5.0           12  B1060  -80.577366  28.561857  \n93    5.0            8  B1062  -80.577366  28.561857  \n\n[90 rows x 17 columns]",
      "text/html": "<div>\n<style scoped>\n    .dataframe tbody tr th:only-of-type {\n        vertical-align: middle;\n    }\n\n    .dataframe tbody tr th {\n        vertical-align: top;\n    }\n\n    .dataframe thead th {\n        text-align: right;\n    }\n</style>\n<table border=\"1\" class=\"dataframe\">\n  <thead>\n    <tr style=\"text-align: right;\">\n      <th></th>\n      <th>FlightNumber</th>\n      <th>Date</th>\n      <th>BoosterVersion</th>\n      <th>PayloadMass</th>\n      <th>Orbit</th>\n      <th>LaunchSite</th>\n      <th>Outcome</th>\n      <th>Flights</th>\n      <th>GridFins</th>\n      <th>Reused</th>\n      <th>Legs</th>\n      <th>LandingPad</th>\n      <th>Block</th>\n      <th>ReusedCount</th>\n      <th>Serial</th>\n      <th>Longitude</th>\n      <th>Latitude</th>\n    </tr>\n  </thead>\n  <tbody>\n    <tr>\n      <th>4</th>\n      <td>6</td>\n      <td>2010-06-04</td>\n      <td>Falcon 9</td>\n      <td>0.0</td>\n      <td>LEO</td>\n      <td>CCSFS SLC 40</td>\n      <td>None None</td>\n      <td>1</td>\n      <td>False</td>\n      <td>False</td>\n      <td>False</td>\n      <td>0</td>\n      <td>1.0</td>\n      <td>0</td>\n      <td>B0003</td>\n      <td>-80.577366</td>\n      <td>28.561857</td>\n    </tr>\n    <tr>\n      <th>5</th>\n      <td>8</td>\n      <td>2012-05-22</td>\n      <td>Falcon 9</td>\n      <td>525.0</td>\n      <td>LEO</td>\n      <td>CCSFS SLC 40</td>\n      <td>None None</td>\n      <td>1</td>\n      <td>False</td>\n      <td>False</td>\n      <td>False</td>\n      <td>0</td>\n      <td>1.0</td>\n      <td>0</td>\n      <td>B0005</td>\n      <td>-80.577366</td>\n      <td>28.561857</td>\n    </tr>\n    <tr>\n      <th>6</th>\n      <td>10</td>\n      <td>2013-03-01</td>\n      <td>Falcon 9</td>\n      <td>677.0</td>\n      <td>ISS</td>\n      <td>CCSFS SLC 40</td>\n      <td>None None</td>\n      <td>1</td>\n      <td>False</td>\n      <td>False</td>\n      <td>False</td>\n      <td>0</td>\n      <td>1.0</td>\n      <td>0</td>\n      <td>B0007</td>\n      <td>-80.577366</td>\n      <td>28.561857</td>\n    </tr>\n    <tr>\n      <th>7</th>\n      <td>11</td>\n      <td>2013-09-29</td>\n      <td>Falcon 9</td>\n      <td>500.0</td>\n      <td>PO</td>\n      <td>VAFB SLC 4E</td>\n      <td>False Ocean</td>\n      <td>1</td>\n      <td>False</td>\n      <td>False</td>\n      <td>False</td>\n      <td>Ocean</td>\n      <td>1.0</td>\n      <td>0</td>\n      <td>B1003</td>\n      <td>-120.610829</td>\n      <td>34.632093</td>\n    </tr>\n    <tr>\n      <th>8</th>\n      <td>12</td>\n      <td>2013-12-03</td>\n      <td>Falcon 9</td>\n      <td>3170.0</td>\n      <td>GTO</td>\n      <td>CCSFS SLC 40</td>\n      <td>None None</td>\n      <td>1</td>\n      <td>False</td>\n      <td>False</td>\n      <td>False</td>\n      <td>0</td>\n      <td>1.0</td>\n      <td>0</td>\n      <td>B1004</td>\n      <td>-80.577366</td>\n      <td>28.561857</td>\n    </tr>\n    <tr>\n      <th>...</th>\n      <td>...</td>\n      <td>...</td>\n      <td>...</td>\n      <td>...</td>\n      <td>...</td>\n      <td>...</td>\n      <td>...</td>\n      <td>...</td>\n      <td>...</td>\n      <td>...</td>\n      <td>...</td>\n      <td>...</td>\n      <td>...</td>\n      <td>...</td>\n      <td>...</td>\n      <td>...</td>\n      <td>...</td>\n    </tr>\n    <tr>\n      <th>89</th>\n      <td>102</td>\n      <td>2020-09-03</td>\n      <td>Falcon 9</td>\n      <td>15600.0</td>\n      <td>VLEO</td>\n      <td>KSC LC 39A</td>\n      <td>True ASDS</td>\n      <td>2</td>\n      <td>True</td>\n      <td>True</td>\n      <td>True</td>\n      <td>5e9e3032383ecb6bb234e7ca</td>\n      <td>5.0</td>\n      <td>12</td>\n      <td>B1060</td>\n      <td>-80.603956</td>\n      <td>28.608058</td>\n    </tr>\n    <tr>\n      <th>90</th>\n      <td>103</td>\n      <td>2020-10-06</td>\n      <td>Falcon 9</td>\n      <td>15600.0</td>\n      <td>VLEO</td>\n      <td>KSC LC 39A</td>\n      <td>True ASDS</td>\n      <td>3</td>\n      <td>True</td>\n      <td>True</td>\n      <td>True</td>\n      <td>5e9e3032383ecb6bb234e7ca</td>\n      <td>5.0</td>\n      <td>13</td>\n      <td>B1058</td>\n      <td>-80.603956</td>\n      <td>28.608058</td>\n    </tr>\n    <tr>\n      <th>91</th>\n      <td>104</td>\n      <td>2020-10-18</td>\n      <td>Falcon 9</td>\n      <td>15600.0</td>\n      <td>VLEO</td>\n      <td>KSC LC 39A</td>\n      <td>True ASDS</td>\n      <td>6</td>\n      <td>True</td>\n      <td>True</td>\n      <td>True</td>\n      <td>5e9e3032383ecb6bb234e7ca</td>\n      <td>5.0</td>\n      <td>12</td>\n      <td>B1051</td>\n      <td>-80.603956</td>\n      <td>28.608058</td>\n    </tr>\n    <tr>\n      <th>92</th>\n      <td>105</td>\n      <td>2020-10-24</td>\n      <td>Falcon 9</td>\n      <td>15600.0</td>\n      <td>VLEO</td>\n      <td>CCSFS SLC 40</td>\n      <td>True ASDS</td>\n      <td>3</td>\n      <td>True</td>\n      <td>True</td>\n      <td>True</td>\n      <td>5e9e3033383ecbb9e534e7cc</td>\n      <td>5.0</td>\n      <td>12</td>\n      <td>B1060</td>\n      <td>-80.577366</td>\n      <td>28.561857</td>\n    </tr>\n    <tr>\n      <th>93</th>\n      <td>106</td>\n      <td>2020-11-05</td>\n      <td>Falcon 9</td>\n      <td>3681.0</td>\n      <td>MEO</td>\n      <td>CCSFS SLC 40</td>\n      <td>True ASDS</td>\n      <td>1</td>\n      <td>True</td>\n      <td>False</td>\n      <td>True</td>\n      <td>5e9e3032383ecb6bb234e7ca</td>\n      <td>5.0</td>\n      <td>8</td>\n      <td>B1062</td>\n      <td>-80.577366</td>\n      <td>28.561857</td>\n    </tr>\n  </tbody>\n</table>\n<p>90 rows × 17 columns</p>\n</div>"
     },
     "execution_count": 63,
     "metadata": {},
     "output_type": "execute_result"
    }
   ],
   "source": [
    "df"
   ],
   "metadata": {
    "collapsed": false,
    "ExecuteTime": {
     "end_time": "2023-07-07T13:08:43.306378750Z",
     "start_time": "2023-07-07T13:08:43.299435917Z"
    }
   }
  },
  {
   "cell_type": "code",
   "execution_count": 68,
   "outputs": [],
   "source": [
    "df.loc[:, 'Date'] = pd.to_datetime(df.Date)"
   ],
   "metadata": {
    "collapsed": false,
    "ExecuteTime": {
     "end_time": "2023-07-07T13:29:28.383194421Z",
     "start_time": "2023-07-07T13:29:28.341789427Z"
    }
   }
  },
  {
   "cell_type": "code",
   "execution_count": 84,
   "outputs": [],
   "source": [
    "df.loc[:, 'year'] = df['Date'].dt.year.astype('int32')\n",
    "df.loc[:, 'month'] = df['Date'].dt.month.astype('int32')\n",
    "df.loc[:, 'day'] = df['Date'].dt.day.astype('int32')"
   ],
   "metadata": {
    "collapsed": false,
    "ExecuteTime": {
     "end_time": "2023-07-07T13:56:28.314962228Z",
     "start_time": "2023-07-07T13:56:28.272214071Z"
    }
   }
  },
  {
   "cell_type": "code",
   "execution_count": 85,
   "outputs": [
    {
     "data": {
      "text/plain": "    FlightNumber       Date BoosterVersion  PayloadMass Orbit    LaunchSite  \\\n4              6 2010-06-04       Falcon 9          0.0   LEO  CCSFS SLC 40   \n5              8 2012-05-22       Falcon 9        525.0   LEO  CCSFS SLC 40   \n6             10 2013-03-01       Falcon 9        677.0   ISS  CCSFS SLC 40   \n7             11 2013-09-29       Falcon 9        500.0    PO   VAFB SLC 4E   \n8             12 2013-12-03       Falcon 9       3170.0   GTO  CCSFS SLC 40   \n..           ...        ...            ...          ...   ...           ...   \n89           102 2020-09-03       Falcon 9      15600.0  VLEO    KSC LC 39A   \n90           103 2020-10-06       Falcon 9      15600.0  VLEO    KSC LC 39A   \n91           104 2020-10-18       Falcon 9      15600.0  VLEO    KSC LC 39A   \n92           105 2020-10-24       Falcon 9      15600.0  VLEO  CCSFS SLC 40   \n93           106 2020-11-05       Falcon 9       3681.0   MEO  CCSFS SLC 40   \n\n        Outcome  Flights  GridFins  Reused   Legs                LandingPad  \\\n4     None None        1     False   False  False                         0   \n5     None None        1     False   False  False                         0   \n6     None None        1     False   False  False                         0   \n7   False Ocean        1     False   False  False                     Ocean   \n8     None None        1     False   False  False                         0   \n..          ...      ...       ...     ...    ...                       ...   \n89    True ASDS        2      True    True   True  5e9e3032383ecb6bb234e7ca   \n90    True ASDS        3      True    True   True  5e9e3032383ecb6bb234e7ca   \n91    True ASDS        6      True    True   True  5e9e3032383ecb6bb234e7ca   \n92    True ASDS        3      True    True   True  5e9e3033383ecbb9e534e7cc   \n93    True ASDS        1      True   False   True  5e9e3032383ecb6bb234e7ca   \n\n    Block  ReusedCount Serial   Longitude   Latitude  year  month  day  \n4     1.0            0  B0003  -80.577366  28.561857  2010      6    4  \n5     1.0            0  B0005  -80.577366  28.561857  2012      5   22  \n6     1.0            0  B0007  -80.577366  28.561857  2013      3    1  \n7     1.0            0  B1003 -120.610829  34.632093  2013      9   29  \n8     1.0            0  B1004  -80.577366  28.561857  2013     12    3  \n..    ...          ...    ...         ...        ...   ...    ...  ...  \n89    5.0           12  B1060  -80.603956  28.608058  2020      9    3  \n90    5.0           13  B1058  -80.603956  28.608058  2020     10    6  \n91    5.0           12  B1051  -80.603956  28.608058  2020     10   18  \n92    5.0           12  B1060  -80.577366  28.561857  2020     10   24  \n93    5.0            8  B1062  -80.577366  28.561857  2020     11    5  \n\n[90 rows x 20 columns]",
      "text/html": "<div>\n<style scoped>\n    .dataframe tbody tr th:only-of-type {\n        vertical-align: middle;\n    }\n\n    .dataframe tbody tr th {\n        vertical-align: top;\n    }\n\n    .dataframe thead th {\n        text-align: right;\n    }\n</style>\n<table border=\"1\" class=\"dataframe\">\n  <thead>\n    <tr style=\"text-align: right;\">\n      <th></th>\n      <th>FlightNumber</th>\n      <th>Date</th>\n      <th>BoosterVersion</th>\n      <th>PayloadMass</th>\n      <th>Orbit</th>\n      <th>LaunchSite</th>\n      <th>Outcome</th>\n      <th>Flights</th>\n      <th>GridFins</th>\n      <th>Reused</th>\n      <th>Legs</th>\n      <th>LandingPad</th>\n      <th>Block</th>\n      <th>ReusedCount</th>\n      <th>Serial</th>\n      <th>Longitude</th>\n      <th>Latitude</th>\n      <th>year</th>\n      <th>month</th>\n      <th>day</th>\n    </tr>\n  </thead>\n  <tbody>\n    <tr>\n      <th>4</th>\n      <td>6</td>\n      <td>2010-06-04</td>\n      <td>Falcon 9</td>\n      <td>0.0</td>\n      <td>LEO</td>\n      <td>CCSFS SLC 40</td>\n      <td>None None</td>\n      <td>1</td>\n      <td>False</td>\n      <td>False</td>\n      <td>False</td>\n      <td>0</td>\n      <td>1.0</td>\n      <td>0</td>\n      <td>B0003</td>\n      <td>-80.577366</td>\n      <td>28.561857</td>\n      <td>2010</td>\n      <td>6</td>\n      <td>4</td>\n    </tr>\n    <tr>\n      <th>5</th>\n      <td>8</td>\n      <td>2012-05-22</td>\n      <td>Falcon 9</td>\n      <td>525.0</td>\n      <td>LEO</td>\n      <td>CCSFS SLC 40</td>\n      <td>None None</td>\n      <td>1</td>\n      <td>False</td>\n      <td>False</td>\n      <td>False</td>\n      <td>0</td>\n      <td>1.0</td>\n      <td>0</td>\n      <td>B0005</td>\n      <td>-80.577366</td>\n      <td>28.561857</td>\n      <td>2012</td>\n      <td>5</td>\n      <td>22</td>\n    </tr>\n    <tr>\n      <th>6</th>\n      <td>10</td>\n      <td>2013-03-01</td>\n      <td>Falcon 9</td>\n      <td>677.0</td>\n      <td>ISS</td>\n      <td>CCSFS SLC 40</td>\n      <td>None None</td>\n      <td>1</td>\n      <td>False</td>\n      <td>False</td>\n      <td>False</td>\n      <td>0</td>\n      <td>1.0</td>\n      <td>0</td>\n      <td>B0007</td>\n      <td>-80.577366</td>\n      <td>28.561857</td>\n      <td>2013</td>\n      <td>3</td>\n      <td>1</td>\n    </tr>\n    <tr>\n      <th>7</th>\n      <td>11</td>\n      <td>2013-09-29</td>\n      <td>Falcon 9</td>\n      <td>500.0</td>\n      <td>PO</td>\n      <td>VAFB SLC 4E</td>\n      <td>False Ocean</td>\n      <td>1</td>\n      <td>False</td>\n      <td>False</td>\n      <td>False</td>\n      <td>Ocean</td>\n      <td>1.0</td>\n      <td>0</td>\n      <td>B1003</td>\n      <td>-120.610829</td>\n      <td>34.632093</td>\n      <td>2013</td>\n      <td>9</td>\n      <td>29</td>\n    </tr>\n    <tr>\n      <th>8</th>\n      <td>12</td>\n      <td>2013-12-03</td>\n      <td>Falcon 9</td>\n      <td>3170.0</td>\n      <td>GTO</td>\n      <td>CCSFS SLC 40</td>\n      <td>None None</td>\n      <td>1</td>\n      <td>False</td>\n      <td>False</td>\n      <td>False</td>\n      <td>0</td>\n      <td>1.0</td>\n      <td>0</td>\n      <td>B1004</td>\n      <td>-80.577366</td>\n      <td>28.561857</td>\n      <td>2013</td>\n      <td>12</td>\n      <td>3</td>\n    </tr>\n    <tr>\n      <th>...</th>\n      <td>...</td>\n      <td>...</td>\n      <td>...</td>\n      <td>...</td>\n      <td>...</td>\n      <td>...</td>\n      <td>...</td>\n      <td>...</td>\n      <td>...</td>\n      <td>...</td>\n      <td>...</td>\n      <td>...</td>\n      <td>...</td>\n      <td>...</td>\n      <td>...</td>\n      <td>...</td>\n      <td>...</td>\n      <td>...</td>\n      <td>...</td>\n      <td>...</td>\n    </tr>\n    <tr>\n      <th>89</th>\n      <td>102</td>\n      <td>2020-09-03</td>\n      <td>Falcon 9</td>\n      <td>15600.0</td>\n      <td>VLEO</td>\n      <td>KSC LC 39A</td>\n      <td>True ASDS</td>\n      <td>2</td>\n      <td>True</td>\n      <td>True</td>\n      <td>True</td>\n      <td>5e9e3032383ecb6bb234e7ca</td>\n      <td>5.0</td>\n      <td>12</td>\n      <td>B1060</td>\n      <td>-80.603956</td>\n      <td>28.608058</td>\n      <td>2020</td>\n      <td>9</td>\n      <td>3</td>\n    </tr>\n    <tr>\n      <th>90</th>\n      <td>103</td>\n      <td>2020-10-06</td>\n      <td>Falcon 9</td>\n      <td>15600.0</td>\n      <td>VLEO</td>\n      <td>KSC LC 39A</td>\n      <td>True ASDS</td>\n      <td>3</td>\n      <td>True</td>\n      <td>True</td>\n      <td>True</td>\n      <td>5e9e3032383ecb6bb234e7ca</td>\n      <td>5.0</td>\n      <td>13</td>\n      <td>B1058</td>\n      <td>-80.603956</td>\n      <td>28.608058</td>\n      <td>2020</td>\n      <td>10</td>\n      <td>6</td>\n    </tr>\n    <tr>\n      <th>91</th>\n      <td>104</td>\n      <td>2020-10-18</td>\n      <td>Falcon 9</td>\n      <td>15600.0</td>\n      <td>VLEO</td>\n      <td>KSC LC 39A</td>\n      <td>True ASDS</td>\n      <td>6</td>\n      <td>True</td>\n      <td>True</td>\n      <td>True</td>\n      <td>5e9e3032383ecb6bb234e7ca</td>\n      <td>5.0</td>\n      <td>12</td>\n      <td>B1051</td>\n      <td>-80.603956</td>\n      <td>28.608058</td>\n      <td>2020</td>\n      <td>10</td>\n      <td>18</td>\n    </tr>\n    <tr>\n      <th>92</th>\n      <td>105</td>\n      <td>2020-10-24</td>\n      <td>Falcon 9</td>\n      <td>15600.0</td>\n      <td>VLEO</td>\n      <td>CCSFS SLC 40</td>\n      <td>True ASDS</td>\n      <td>3</td>\n      <td>True</td>\n      <td>True</td>\n      <td>True</td>\n      <td>5e9e3033383ecbb9e534e7cc</td>\n      <td>5.0</td>\n      <td>12</td>\n      <td>B1060</td>\n      <td>-80.577366</td>\n      <td>28.561857</td>\n      <td>2020</td>\n      <td>10</td>\n      <td>24</td>\n    </tr>\n    <tr>\n      <th>93</th>\n      <td>106</td>\n      <td>2020-11-05</td>\n      <td>Falcon 9</td>\n      <td>3681.0</td>\n      <td>MEO</td>\n      <td>CCSFS SLC 40</td>\n      <td>True ASDS</td>\n      <td>1</td>\n      <td>True</td>\n      <td>False</td>\n      <td>True</td>\n      <td>5e9e3032383ecb6bb234e7ca</td>\n      <td>5.0</td>\n      <td>8</td>\n      <td>B1062</td>\n      <td>-80.577366</td>\n      <td>28.561857</td>\n      <td>2020</td>\n      <td>11</td>\n      <td>5</td>\n    </tr>\n  </tbody>\n</table>\n<p>90 rows × 20 columns</p>\n</div>"
     },
     "execution_count": 85,
     "metadata": {},
     "output_type": "execute_result"
    }
   ],
   "source": [
    "df"
   ],
   "metadata": {
    "collapsed": false,
    "ExecuteTime": {
     "end_time": "2023-07-07T13:56:29.385473139Z",
     "start_time": "2023-07-07T13:56:29.378307520Z"
    }
   }
  },
  {
   "cell_type": "code",
   "execution_count": 86,
   "outputs": [
    {
     "name": "stdout",
     "output_type": "stream",
     "text": [
      "<class 'pandas.core.frame.DataFrame'>\n",
      "Index: 90 entries, 4 to 93\n",
      "Data columns (total 20 columns):\n",
      " #   Column          Non-Null Count  Dtype         \n",
      "---  ------          --------------  -----         \n",
      " 0   FlightNumber    90 non-null     int64         \n",
      " 1   Date            90 non-null     datetime64[ns]\n",
      " 2   BoosterVersion  90 non-null     object        \n",
      " 3   PayloadMass     90 non-null     float64       \n",
      " 4   Orbit           90 non-null     object        \n",
      " 5   LaunchSite      90 non-null     object        \n",
      " 6   Outcome         90 non-null     object        \n",
      " 7   Flights         90 non-null     int64         \n",
      " 8   GridFins        90 non-null     bool          \n",
      " 9   Reused          90 non-null     bool          \n",
      " 10  Legs            90 non-null     bool          \n",
      " 11  LandingPad      90 non-null     object        \n",
      " 12  Block           90 non-null     float64       \n",
      " 13  ReusedCount     90 non-null     int64         \n",
      " 14  Serial          90 non-null     object        \n",
      " 15  Longitude       90 non-null     float64       \n",
      " 16  Latitude        90 non-null     float64       \n",
      " 17  year            90 non-null     int32         \n",
      " 18  month           90 non-null     int32         \n",
      " 19  day             90 non-null     int32         \n",
      "dtypes: bool(3), datetime64[ns](1), float64(4), int32(3), int64(3), object(6)\n",
      "memory usage: 11.9+ KB\n"
     ]
    }
   ],
   "source": [
    "df.info()"
   ],
   "metadata": {
    "collapsed": false,
    "ExecuteTime": {
     "end_time": "2023-07-07T13:56:36.448736675Z",
     "start_time": "2023-07-07T13:56:36.441078063Z"
    }
   }
  },
  {
   "cell_type": "code",
   "execution_count": null,
   "outputs": [],
   "source": [],
   "metadata": {
    "collapsed": false
   }
  }
 ],
 "metadata": {
  "kernelspec": {
   "display_name": "Python 3",
   "language": "python",
   "name": "python3"
  },
  "language_info": {
   "codemirror_mode": {
    "name": "ipython",
    "version": 2
   },
   "file_extension": ".py",
   "mimetype": "text/x-python",
   "name": "python",
   "nbconvert_exporter": "python",
   "pygments_lexer": "ipython2",
   "version": "2.7.6"
  }
 },
 "nbformat": 4,
 "nbformat_minor": 0
}
