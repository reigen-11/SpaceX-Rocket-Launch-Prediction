{
 "cells": [
  {
   "cell_type": "code",
   "execution_count": 1,
   "metadata": {
    "collapsed": true,
    "ExecuteTime": {
     "end_time": "2023-07-19T10:58:00.945192964Z",
     "start_time": "2023-07-19T10:58:00.469355264Z"
    }
   },
   "outputs": [],
   "source": [
    "import pandas as pd\n",
    "import numpy as np"
   ]
  },
  {
   "cell_type": "code",
   "execution_count": 2,
   "outputs": [
    {
     "data": {
      "text/plain": "     FlightNumber        Date BoosterVersion  PayloadMass Orbit  \\\n0               1  2006-03-24       Falcon 1         20.0   LEO   \n1               2  2007-03-21       Falcon 1          NaN   LEO   \n2               4  2008-09-28       Falcon 1        165.0   LEO   \n3               5  2009-07-13       Falcon 1        200.0   LEO   \n4               6  2010-06-04       Falcon 9          NaN   LEO   \n..            ...         ...            ...          ...   ...   \n167           181  2022-08-28       Falcon 9      13260.0  VLEO   \n168           182  2022-08-31       Falcon 9      13260.0  VLEO   \n169           185  2022-09-17       Falcon 9      13260.0  VLEO   \n170           186  2022-09-24       Falcon 9      13260.0  VLEO   \n171           187  2022-10-05       Falcon 9          NaN   ISS   \n\n          LaunchSite    Outcome  Flights  GridFins  Reused   Legs  \\\n0    Kwajalein Atoll  None None        1     False   False  False   \n1    Kwajalein Atoll  None None        1     False   False  False   \n2    Kwajalein Atoll  None None        1     False   False  False   \n3    Kwajalein Atoll  None None        1     False   False  False   \n4       CCSFS SLC 40  None None        1     False   False  False   \n..               ...        ...      ...       ...     ...    ...   \n167       KSC LC 39A  True ASDS        2      True    True   True   \n168      VAFB SLC 4E  True ASDS        7      True    True   True   \n169     CCSFS SLC 40  True ASDS        6      True    True   True   \n170     CCSFS SLC 40  True ASDS        4      True    True   True   \n171       KSC LC 39A  True ASDS        1      True   False   True   \n\n                   LandingPad  Block  ReusedCount    Serial   Longitude  \\\n0                         NaN    NaN            0  Merlin1A  167.743129   \n1                         NaN    NaN            0  Merlin2A  167.743129   \n2                         NaN    NaN            0  Merlin2C  167.743129   \n3                         NaN    NaN            0  Merlin3C  167.743129   \n4                         NaN    1.0            0     B0003  -80.577366   \n..                        ...    ...          ...       ...         ...   \n167  5e9e3033383ecb075134e7cd    5.0            1     B1069  -80.603956   \n168  5e9e3032383ecb6bb234e7ca    5.0            6     B1063 -120.610829   \n169  5e9e3033383ecbb9e534e7cc    5.0            5     B1067  -80.577366   \n170  5e9e3033383ecbb9e534e7cc    5.0            0     B1072  -80.577366   \n171  5e9e3033383ecbb9e534e7cc    5.0            0     B1077  -80.603956   \n\n      Latitude  \n0     9.047721  \n1     9.047721  \n2     9.047721  \n3     9.047721  \n4    28.561857  \n..         ...  \n167  28.608058  \n168  34.632093  \n169  28.561857  \n170  28.561857  \n171  28.608058  \n\n[172 rows x 17 columns]",
      "text/html": "<div>\n<style scoped>\n    .dataframe tbody tr th:only-of-type {\n        vertical-align: middle;\n    }\n\n    .dataframe tbody tr th {\n        vertical-align: top;\n    }\n\n    .dataframe thead th {\n        text-align: right;\n    }\n</style>\n<table border=\"1\" class=\"dataframe\">\n  <thead>\n    <tr style=\"text-align: right;\">\n      <th></th>\n      <th>FlightNumber</th>\n      <th>Date</th>\n      <th>BoosterVersion</th>\n      <th>PayloadMass</th>\n      <th>Orbit</th>\n      <th>LaunchSite</th>\n      <th>Outcome</th>\n      <th>Flights</th>\n      <th>GridFins</th>\n      <th>Reused</th>\n      <th>Legs</th>\n      <th>LandingPad</th>\n      <th>Block</th>\n      <th>ReusedCount</th>\n      <th>Serial</th>\n      <th>Longitude</th>\n      <th>Latitude</th>\n    </tr>\n  </thead>\n  <tbody>\n    <tr>\n      <th>0</th>\n      <td>1</td>\n      <td>2006-03-24</td>\n      <td>Falcon 1</td>\n      <td>20.0</td>\n      <td>LEO</td>\n      <td>Kwajalein Atoll</td>\n      <td>None None</td>\n      <td>1</td>\n      <td>False</td>\n      <td>False</td>\n      <td>False</td>\n      <td>NaN</td>\n      <td>NaN</td>\n      <td>0</td>\n      <td>Merlin1A</td>\n      <td>167.743129</td>\n      <td>9.047721</td>\n    </tr>\n    <tr>\n      <th>1</th>\n      <td>2</td>\n      <td>2007-03-21</td>\n      <td>Falcon 1</td>\n      <td>NaN</td>\n      <td>LEO</td>\n      <td>Kwajalein Atoll</td>\n      <td>None None</td>\n      <td>1</td>\n      <td>False</td>\n      <td>False</td>\n      <td>False</td>\n      <td>NaN</td>\n      <td>NaN</td>\n      <td>0</td>\n      <td>Merlin2A</td>\n      <td>167.743129</td>\n      <td>9.047721</td>\n    </tr>\n    <tr>\n      <th>2</th>\n      <td>4</td>\n      <td>2008-09-28</td>\n      <td>Falcon 1</td>\n      <td>165.0</td>\n      <td>LEO</td>\n      <td>Kwajalein Atoll</td>\n      <td>None None</td>\n      <td>1</td>\n      <td>False</td>\n      <td>False</td>\n      <td>False</td>\n      <td>NaN</td>\n      <td>NaN</td>\n      <td>0</td>\n      <td>Merlin2C</td>\n      <td>167.743129</td>\n      <td>9.047721</td>\n    </tr>\n    <tr>\n      <th>3</th>\n      <td>5</td>\n      <td>2009-07-13</td>\n      <td>Falcon 1</td>\n      <td>200.0</td>\n      <td>LEO</td>\n      <td>Kwajalein Atoll</td>\n      <td>None None</td>\n      <td>1</td>\n      <td>False</td>\n      <td>False</td>\n      <td>False</td>\n      <td>NaN</td>\n      <td>NaN</td>\n      <td>0</td>\n      <td>Merlin3C</td>\n      <td>167.743129</td>\n      <td>9.047721</td>\n    </tr>\n    <tr>\n      <th>4</th>\n      <td>6</td>\n      <td>2010-06-04</td>\n      <td>Falcon 9</td>\n      <td>NaN</td>\n      <td>LEO</td>\n      <td>CCSFS SLC 40</td>\n      <td>None None</td>\n      <td>1</td>\n      <td>False</td>\n      <td>False</td>\n      <td>False</td>\n      <td>NaN</td>\n      <td>1.0</td>\n      <td>0</td>\n      <td>B0003</td>\n      <td>-80.577366</td>\n      <td>28.561857</td>\n    </tr>\n    <tr>\n      <th>...</th>\n      <td>...</td>\n      <td>...</td>\n      <td>...</td>\n      <td>...</td>\n      <td>...</td>\n      <td>...</td>\n      <td>...</td>\n      <td>...</td>\n      <td>...</td>\n      <td>...</td>\n      <td>...</td>\n      <td>...</td>\n      <td>...</td>\n      <td>...</td>\n      <td>...</td>\n      <td>...</td>\n      <td>...</td>\n    </tr>\n    <tr>\n      <th>167</th>\n      <td>181</td>\n      <td>2022-08-28</td>\n      <td>Falcon 9</td>\n      <td>13260.0</td>\n      <td>VLEO</td>\n      <td>KSC LC 39A</td>\n      <td>True ASDS</td>\n      <td>2</td>\n      <td>True</td>\n      <td>True</td>\n      <td>True</td>\n      <td>5e9e3033383ecb075134e7cd</td>\n      <td>5.0</td>\n      <td>1</td>\n      <td>B1069</td>\n      <td>-80.603956</td>\n      <td>28.608058</td>\n    </tr>\n    <tr>\n      <th>168</th>\n      <td>182</td>\n      <td>2022-08-31</td>\n      <td>Falcon 9</td>\n      <td>13260.0</td>\n      <td>VLEO</td>\n      <td>VAFB SLC 4E</td>\n      <td>True ASDS</td>\n      <td>7</td>\n      <td>True</td>\n      <td>True</td>\n      <td>True</td>\n      <td>5e9e3032383ecb6bb234e7ca</td>\n      <td>5.0</td>\n      <td>6</td>\n      <td>B1063</td>\n      <td>-120.610829</td>\n      <td>34.632093</td>\n    </tr>\n    <tr>\n      <th>169</th>\n      <td>185</td>\n      <td>2022-09-17</td>\n      <td>Falcon 9</td>\n      <td>13260.0</td>\n      <td>VLEO</td>\n      <td>CCSFS SLC 40</td>\n      <td>True ASDS</td>\n      <td>6</td>\n      <td>True</td>\n      <td>True</td>\n      <td>True</td>\n      <td>5e9e3033383ecbb9e534e7cc</td>\n      <td>5.0</td>\n      <td>5</td>\n      <td>B1067</td>\n      <td>-80.577366</td>\n      <td>28.561857</td>\n    </tr>\n    <tr>\n      <th>170</th>\n      <td>186</td>\n      <td>2022-09-24</td>\n      <td>Falcon 9</td>\n      <td>13260.0</td>\n      <td>VLEO</td>\n      <td>CCSFS SLC 40</td>\n      <td>True ASDS</td>\n      <td>4</td>\n      <td>True</td>\n      <td>True</td>\n      <td>True</td>\n      <td>5e9e3033383ecbb9e534e7cc</td>\n      <td>5.0</td>\n      <td>0</td>\n      <td>B1072</td>\n      <td>-80.577366</td>\n      <td>28.561857</td>\n    </tr>\n    <tr>\n      <th>171</th>\n      <td>187</td>\n      <td>2022-10-05</td>\n      <td>Falcon 9</td>\n      <td>NaN</td>\n      <td>ISS</td>\n      <td>KSC LC 39A</td>\n      <td>True ASDS</td>\n      <td>1</td>\n      <td>True</td>\n      <td>False</td>\n      <td>True</td>\n      <td>5e9e3033383ecbb9e534e7cc</td>\n      <td>5.0</td>\n      <td>0</td>\n      <td>B1077</td>\n      <td>-80.603956</td>\n      <td>28.608058</td>\n    </tr>\n  </tbody>\n</table>\n<p>172 rows × 17 columns</p>\n</div>"
     },
     "execution_count": 2,
     "metadata": {},
     "output_type": "execute_result"
    }
   ],
   "source": [
    "df = pd.read_csv('/home/aditya/All Github/SpaceX/data/raw/SpaceX_Falcon.csv')\n",
    "df"
   ],
   "metadata": {
    "collapsed": false,
    "ExecuteTime": {
     "end_time": "2023-07-19T10:58:04.668125535Z",
     "start_time": "2023-07-19T10:58:04.475955092Z"
    }
   }
  },
  {
   "cell_type": "code",
   "execution_count": 3,
   "outputs": [],
   "source": [
    "df = df.query(\"BoosterVersion == 'Falcon 9'\")"
   ],
   "metadata": {
    "collapsed": false,
    "ExecuteTime": {
     "end_time": "2023-07-08T09:28:42.461535996Z",
     "start_time": "2023-07-08T09:28:42.455411922Z"
    }
   }
  },
  {
   "cell_type": "code",
   "execution_count": 3,
   "outputs": [
    {
     "data": {
      "text/plain": "Index(['FlightNumber', 'Date', 'BoosterVersion', 'PayloadMass', 'Orbit',\n       'LaunchSite', 'Outcome', 'Flights', 'GridFins', 'Reused', 'Legs',\n       'LandingPad', 'Block', 'ReusedCount', 'Serial', 'Longitude',\n       'Latitude'],\n      dtype='object')"
     },
     "execution_count": 3,
     "metadata": {},
     "output_type": "execute_result"
    }
   ],
   "source": [
    "df.columns"
   ],
   "metadata": {
    "collapsed": false,
    "ExecuteTime": {
     "end_time": "2023-07-19T10:58:13.354728958Z",
     "start_time": "2023-07-19T10:58:13.329272278Z"
    }
   }
  },
  {
   "cell_type": "code",
   "execution_count": 4,
   "outputs": [
    {
     "name": "stdout",
     "output_type": "stream",
     "text": [
      "<class 'pandas.core.frame.DataFrame'>\n",
      "Index: 168 entries, 4 to 171\n",
      "Data columns (total 17 columns):\n",
      " #   Column          Non-Null Count  Dtype  \n",
      "---  ------          --------------  -----  \n",
      " 0   FlightNumber    168 non-null    int64  \n",
      " 1   Date            168 non-null    object \n",
      " 2   BoosterVersion  168 non-null    object \n",
      " 3   PayloadMass     146 non-null    float64\n",
      " 4   Orbit           167 non-null    object \n",
      " 5   LaunchSite      168 non-null    object \n",
      " 6   Outcome         168 non-null    object \n",
      " 7   Flights         168 non-null    int64  \n",
      " 8   GridFins        168 non-null    bool   \n",
      " 9   Reused          168 non-null    bool   \n",
      " 10  Legs            168 non-null    bool   \n",
      " 11  LandingPad      142 non-null    object \n",
      " 12  Block           168 non-null    float64\n",
      " 13  ReusedCount     168 non-null    int64  \n",
      " 14  Serial          168 non-null    object \n",
      " 15  Longitude       168 non-null    float64\n",
      " 16  Latitude        168 non-null    float64\n",
      "dtypes: bool(3), float64(4), int64(3), object(7)\n",
      "memory usage: 20.2+ KB\n"
     ]
    }
   ],
   "source": [
    "df.info()"
   ],
   "metadata": {
    "collapsed": false,
    "ExecuteTime": {
     "end_time": "2023-07-08T09:28:42.956496612Z",
     "start_time": "2023-07-08T09:28:42.950971832Z"
    }
   }
  },
  {
   "cell_type": "markdown",
   "source": [
    "# Data Cleaning"
   ],
   "metadata": {
    "collapsed": false
   }
  },
  {
   "cell_type": "code",
   "execution_count": 5,
   "outputs": [
    {
     "data": {
      "text/plain": "BoosterVersion\nFalcon 9    168\nName: count, dtype: int64"
     },
     "execution_count": 5,
     "metadata": {},
     "output_type": "execute_result"
    }
   ],
   "source": [
    "df.BoosterVersion.value_counts()"
   ],
   "metadata": {
    "collapsed": false,
    "ExecuteTime": {
     "end_time": "2023-07-08T09:28:45.033406170Z",
     "start_time": "2023-07-08T09:28:45.019715251Z"
    }
   }
  },
  {
   "cell_type": "code",
   "execution_count": 6,
   "outputs": [
    {
     "data": {
      "text/plain": "FlightNumber       0\nDate               0\nBoosterVersion     0\nPayloadMass       22\nOrbit              1\nLaunchSite         0\nOutcome            0\nFlights            0\nGridFins           0\nReused             0\nLegs               0\nLandingPad        26\nBlock              0\nReusedCount        0\nSerial             0\nLongitude          0\nLatitude           0\ndtype: int64"
     },
     "execution_count": 6,
     "metadata": {},
     "output_type": "execute_result"
    }
   ],
   "source": [
    "df.isnull().sum()"
   ],
   "metadata": {
    "collapsed": false,
    "ExecuteTime": {
     "end_time": "2023-07-08T09:28:45.798886379Z",
     "start_time": "2023-07-08T09:28:45.772505442Z"
    }
   }
  },
  {
   "cell_type": "code",
   "execution_count": 7,
   "outputs": [
    {
     "data": {
      "text/plain": "     FlightNumber        Date BoosterVersion  PayloadMass  Orbit  \\\n4               6  2010-06-04       Falcon 9          NaN    LEO   \n5               8  2012-05-22       Falcon 9       525.00    LEO   \n6              10  2013-03-01       Falcon 9       677.00    ISS   \n7              11  2013-09-29       Falcon 9       500.00     PO   \n8              12  2013-12-03       Falcon 9      3170.00    GTO   \n9              13  2014-01-06       Falcon 9      3325.00    GTO   \n10             14  2014-04-18       Falcon 9      2296.00    ISS   \n11             15  2014-07-14       Falcon 9      1316.00    LEO   \n12             16  2014-08-05       Falcon 9      4535.00    GTO   \n13             17  2014-09-07       Falcon 9      4428.00    GTO   \n14             18  2014-09-21       Falcon 9      2216.00    ISS   \n16             20  2015-02-11       Falcon 9       570.00  ES-L1   \n18             23  2015-04-27       Falcon 9      4707.00    GTO   \n31             37  2017-03-16       Falcon 9      5600.00    GTO   \n33             39  2017-05-01       Falcon 9          NaN    LEO   \n34             40  2017-05-15       Falcon 9      6070.00    GTO   \n38             44  2017-07-05       Falcon 9      6761.00    GTO   \n46             52  2017-12-23       Falcon 9      9600.00     PO   \n47             53  2018-01-08       Falcon 9          NaN    LEO   \n48             54  2018-01-31       Falcon 9      4230.00    GTO   \n49             57  2018-03-06       Falcon 9      6092.00    GTO   \n50             58  2018-03-30       Falcon 9      9600.00     PO   \n51             59  2018-04-02       Falcon 9      2760.00    ISS   \n54             63  2018-06-04       Falcon 9      5383.85    GTO   \n55             64  2018-06-29       Falcon 9      2410.00    ISS   \n64             73  2018-12-23       Falcon 9      4400.00    MEO   \n71             83  2019-08-06       Falcon 9      6500.00    GTO   \n76             88  2020-01-19       Falcon 9          NaN     SO   \n86             98  2020-07-20       Falcon 9          NaN    GEO   \n94            107  2020-11-16       Falcon 9          NaN    ISS   \n99            112  2020-12-19       Falcon 9          NaN    NaN   \n102           115  2021-01-24       Falcon 9          NaN    SSO   \n110           123  2021-04-23       Falcon 9          NaN    ISS   \n118           132  2021-06-30       Falcon 9          NaN    SSO   \n119           133  2021-08-29       Falcon 9          NaN    ISS   \n121           135  2021-09-16       Falcon 9          NaN    LEO   \n129           143  2021-12-21       Falcon 9          NaN    ISS   \n131           145  2022-01-13       Falcon 9          NaN    LEO   \n134           148  2022-02-02       Falcon 9          NaN    LEO   \n141           155  2022-04-01       Falcon 9          NaN    SSO   \n142           156  2022-04-08       Falcon 9          NaN    ISS   \n143           157  2022-04-17       Falcon 9          NaN    LEO   \n145           159  2022-04-27       Falcon 9          NaN    ISS   \n151           165  2022-05-25       Falcon 9          NaN    SSO   \n159           173  2022-07-15       Falcon 9          NaN    ISS   \n171           187  2022-10-05       Falcon 9          NaN    ISS   \n\n       LaunchSite      Outcome  Flights  GridFins  Reused   Legs  \\\n4    CCSFS SLC 40    None None        1     False   False  False   \n5    CCSFS SLC 40    None None        1     False   False  False   \n6    CCSFS SLC 40    None None        1     False   False  False   \n7     VAFB SLC 4E  False Ocean        1     False   False  False   \n8    CCSFS SLC 40    None None        1     False   False  False   \n9    CCSFS SLC 40    None None        1     False   False  False   \n10   CCSFS SLC 40   True Ocean        1     False   False   True   \n11   CCSFS SLC 40   True Ocean        1     False   False   True   \n12   CCSFS SLC 40    None None        1     False   False  False   \n13   CCSFS SLC 40    None None        1     False   False  False   \n14   CCSFS SLC 40  False Ocean        1     False   False  False   \n16   CCSFS SLC 40   True Ocean        1      True   False   True   \n18   CCSFS SLC 40    None None        1     False   False  False   \n31     KSC LC 39A    None None        1     False   False  False   \n33     KSC LC 39A    True RTLS        1      True   False   True   \n34     KSC LC 39A    None None        1     False   False  False   \n38     KSC LC 39A    None None        1     False   False  False   \n46    VAFB SLC 4E   True Ocean        2      True    True  False   \n47   CCSFS SLC 40    True RTLS        1      True   False   True   \n48   CCSFS SLC 40   True Ocean        2      True    True   True   \n49   CCSFS SLC 40    None None        1      True   False   True   \n50    VAFB SLC 4E    None None        2      True    True   True   \n51   CCSFS SLC 40    None None        2      True    True   True   \n54   CCSFS SLC 40    None None        2     False    True  False   \n55   CCSFS SLC 40    None None        2     False    True  False   \n64   CCSFS SLC 40    None None        1     False   False  False   \n71   CCSFS SLC 40    None None        3     False    True  False   \n76     KSC LC 39A    None None        4     False    True  False   \n86   CCSFS SLC 40    True ASDS        2      True    True   True   \n94     KSC LC 39A    True ASDS        1      True   False   True   \n99     KSC LC 39A    True RTLS        5      True    True   True   \n102  CCSFS SLC 40    True ASDS        5      True    True   True   \n110    KSC LC 39A    True ASDS        2      True    True   True   \n118  CCSFS SLC 40    True RTLS        8      True    True   True   \n119    KSC LC 39A    True ASDS        4      True    True   True   \n121    KSC LC 39A    True ASDS        3      True    True   True   \n129    KSC LC 39A    True ASDS        1      True   False   True   \n131  CCSFS SLC 40    True RTLS       10      True    True   True   \n134   VAFB SLC 4E    True RTLS        1      True   False   True   \n141  CCSFS SLC 40    True ASDS        7      True    True   True   \n142    KSC LC 39A    True ASDS        5      True    True   True   \n143   VAFB SLC 4E    True RTLS        2      True    True   True   \n145    KSC LC 39A    True ASDS        4      True    True   True   \n151  CCSFS SLC 40    True RTLS        8      True    True   True   \n159    KSC LC 39A    True ASDS        5      True    True   True   \n171    KSC LC 39A    True ASDS        1      True   False   True   \n\n                   LandingPad  Block  ReusedCount Serial   Longitude  \\\n4                         NaN    1.0            0  B0003  -80.577366   \n5                         NaN    1.0            0  B0005  -80.577366   \n6                         NaN    1.0            0  B0007  -80.577366   \n7                         NaN    1.0            0  B1003 -120.610829   \n8                         NaN    1.0            0  B1004  -80.577366   \n9                         NaN    1.0            0  B1005  -80.577366   \n10                        NaN    1.0            0  B1006  -80.577366   \n11                        NaN    1.0            0  B1007  -80.577366   \n12                        NaN    1.0            0  B1008  -80.577366   \n13                        NaN    1.0            0  B1011  -80.577366   \n14                        NaN    1.0            0  B1010  -80.577366   \n16                        NaN    1.0            0  B1013  -80.577366   \n18                        NaN    1.0            0  B1016  -80.577366   \n31                        NaN    3.0            0  B1030  -80.603956   \n33   5e9e3032383ecb267a34e7c7    3.0            1  B1032  -80.603956   \n34                        NaN    3.0            0  B1034  -80.603956   \n38                        NaN    3.0            0  B1037  -80.603956   \n46                        NaN    3.0            1  B1036 -120.610829   \n47   5e9e3032383ecb267a34e7c7    4.0            1  B1043  -80.577366   \n48                        NaN    3.0            1  B1032  -80.577366   \n49                        NaN    4.0            0  B1044  -80.577366   \n50                        NaN    4.0            1  B1041 -120.610829   \n51                        NaN    4.0            1  B1039  -80.577366   \n54                        NaN    4.0            1  B1040  -80.577366   \n55                        NaN    4.0            1  B1045  -80.577366   \n64                        NaN    5.0            0  B1054  -80.577366   \n71                        NaN    5.0            2  B1047  -80.577366   \n76                        NaN    5.0            3  B1046  -80.603956   \n86   5e9e3033383ecbb9e534e7cc    5.0           13  B1058  -80.577366   \n94   5e9e3033383ecbb9e534e7cc    5.0            9  B1061  -80.603956   \n99   5e9e3032383ecb267a34e7c7    5.0            5  B1059  -80.603956   \n102  5e9e3032383ecb6bb234e7ca    5.0           13  B1058  -80.577366   \n110  5e9e3032383ecb6bb234e7ca    5.0            9  B1061  -80.603956   \n118  5e9e3032383ecb267a34e7c7    5.0           12  B1060  -80.577366   \n119  5e9e3033383ecb075134e7cd    5.0            9  B1061  -80.603956   \n121  5e9e3033383ecbb9e534e7cc    5.0            8  B1062  -80.603956   \n129  5e9e3033383ecbb9e534e7cc    5.0            1  B1069  -80.603956   \n131  5e9e3032383ecb267a34e7c7    5.0           13  B1058  -80.577366   \n134  5e9e3032383ecb554034e7c9    5.0            3  B1071 -120.610829   \n141  5e9e3033383ecbb9e534e7cc    5.0            9  B1061  -80.577366   \n142  5e9e3033383ecb075134e7cd    5.0            8  B1062  -80.603956   \n143  5e9e3032383ecb554034e7c9    5.0            3  B1071 -120.610829   \n145  5e9e3033383ecb075134e7cd    5.0            5  B1067  -80.603956   \n151  5e9e3032383ecb267a34e7c7    5.0            9  B1061  -80.577366   \n159  5e9e3033383ecb075134e7cd    5.0            5  B1067  -80.603956   \n171  5e9e3033383ecbb9e534e7cc    5.0            0  B1077  -80.603956   \n\n      Latitude  \n4    28.561857  \n5    28.561857  \n6    28.561857  \n7    34.632093  \n8    28.561857  \n9    28.561857  \n10   28.561857  \n11   28.561857  \n12   28.561857  \n13   28.561857  \n14   28.561857  \n16   28.561857  \n18   28.561857  \n31   28.608058  \n33   28.608058  \n34   28.608058  \n38   28.608058  \n46   34.632093  \n47   28.561857  \n48   28.561857  \n49   28.561857  \n50   34.632093  \n51   28.561857  \n54   28.561857  \n55   28.561857  \n64   28.561857  \n71   28.561857  \n76   28.608058  \n86   28.561857  \n94   28.608058  \n99   28.608058  \n102  28.561857  \n110  28.608058  \n118  28.561857  \n119  28.608058  \n121  28.608058  \n129  28.608058  \n131  28.561857  \n134  34.632093  \n141  28.561857  \n142  28.608058  \n143  34.632093  \n145  28.608058  \n151  28.561857  \n159  28.608058  \n171  28.608058  ",
      "text/html": "<div>\n<style scoped>\n    .dataframe tbody tr th:only-of-type {\n        vertical-align: middle;\n    }\n\n    .dataframe tbody tr th {\n        vertical-align: top;\n    }\n\n    .dataframe thead th {\n        text-align: right;\n    }\n</style>\n<table border=\"1\" class=\"dataframe\">\n  <thead>\n    <tr style=\"text-align: right;\">\n      <th></th>\n      <th>FlightNumber</th>\n      <th>Date</th>\n      <th>BoosterVersion</th>\n      <th>PayloadMass</th>\n      <th>Orbit</th>\n      <th>LaunchSite</th>\n      <th>Outcome</th>\n      <th>Flights</th>\n      <th>GridFins</th>\n      <th>Reused</th>\n      <th>Legs</th>\n      <th>LandingPad</th>\n      <th>Block</th>\n      <th>ReusedCount</th>\n      <th>Serial</th>\n      <th>Longitude</th>\n      <th>Latitude</th>\n    </tr>\n  </thead>\n  <tbody>\n    <tr>\n      <th>4</th>\n      <td>6</td>\n      <td>2010-06-04</td>\n      <td>Falcon 9</td>\n      <td>NaN</td>\n      <td>LEO</td>\n      <td>CCSFS SLC 40</td>\n      <td>None None</td>\n      <td>1</td>\n      <td>False</td>\n      <td>False</td>\n      <td>False</td>\n      <td>NaN</td>\n      <td>1.0</td>\n      <td>0</td>\n      <td>B0003</td>\n      <td>-80.577366</td>\n      <td>28.561857</td>\n    </tr>\n    <tr>\n      <th>5</th>\n      <td>8</td>\n      <td>2012-05-22</td>\n      <td>Falcon 9</td>\n      <td>525.00</td>\n      <td>LEO</td>\n      <td>CCSFS SLC 40</td>\n      <td>None None</td>\n      <td>1</td>\n      <td>False</td>\n      <td>False</td>\n      <td>False</td>\n      <td>NaN</td>\n      <td>1.0</td>\n      <td>0</td>\n      <td>B0005</td>\n      <td>-80.577366</td>\n      <td>28.561857</td>\n    </tr>\n    <tr>\n      <th>6</th>\n      <td>10</td>\n      <td>2013-03-01</td>\n      <td>Falcon 9</td>\n      <td>677.00</td>\n      <td>ISS</td>\n      <td>CCSFS SLC 40</td>\n      <td>None None</td>\n      <td>1</td>\n      <td>False</td>\n      <td>False</td>\n      <td>False</td>\n      <td>NaN</td>\n      <td>1.0</td>\n      <td>0</td>\n      <td>B0007</td>\n      <td>-80.577366</td>\n      <td>28.561857</td>\n    </tr>\n    <tr>\n      <th>7</th>\n      <td>11</td>\n      <td>2013-09-29</td>\n      <td>Falcon 9</td>\n      <td>500.00</td>\n      <td>PO</td>\n      <td>VAFB SLC 4E</td>\n      <td>False Ocean</td>\n      <td>1</td>\n      <td>False</td>\n      <td>False</td>\n      <td>False</td>\n      <td>NaN</td>\n      <td>1.0</td>\n      <td>0</td>\n      <td>B1003</td>\n      <td>-120.610829</td>\n      <td>34.632093</td>\n    </tr>\n    <tr>\n      <th>8</th>\n      <td>12</td>\n      <td>2013-12-03</td>\n      <td>Falcon 9</td>\n      <td>3170.00</td>\n      <td>GTO</td>\n      <td>CCSFS SLC 40</td>\n      <td>None None</td>\n      <td>1</td>\n      <td>False</td>\n      <td>False</td>\n      <td>False</td>\n      <td>NaN</td>\n      <td>1.0</td>\n      <td>0</td>\n      <td>B1004</td>\n      <td>-80.577366</td>\n      <td>28.561857</td>\n    </tr>\n    <tr>\n      <th>9</th>\n      <td>13</td>\n      <td>2014-01-06</td>\n      <td>Falcon 9</td>\n      <td>3325.00</td>\n      <td>GTO</td>\n      <td>CCSFS SLC 40</td>\n      <td>None None</td>\n      <td>1</td>\n      <td>False</td>\n      <td>False</td>\n      <td>False</td>\n      <td>NaN</td>\n      <td>1.0</td>\n      <td>0</td>\n      <td>B1005</td>\n      <td>-80.577366</td>\n      <td>28.561857</td>\n    </tr>\n    <tr>\n      <th>10</th>\n      <td>14</td>\n      <td>2014-04-18</td>\n      <td>Falcon 9</td>\n      <td>2296.00</td>\n      <td>ISS</td>\n      <td>CCSFS SLC 40</td>\n      <td>True Ocean</td>\n      <td>1</td>\n      <td>False</td>\n      <td>False</td>\n      <td>True</td>\n      <td>NaN</td>\n      <td>1.0</td>\n      <td>0</td>\n      <td>B1006</td>\n      <td>-80.577366</td>\n      <td>28.561857</td>\n    </tr>\n    <tr>\n      <th>11</th>\n      <td>15</td>\n      <td>2014-07-14</td>\n      <td>Falcon 9</td>\n      <td>1316.00</td>\n      <td>LEO</td>\n      <td>CCSFS SLC 40</td>\n      <td>True Ocean</td>\n      <td>1</td>\n      <td>False</td>\n      <td>False</td>\n      <td>True</td>\n      <td>NaN</td>\n      <td>1.0</td>\n      <td>0</td>\n      <td>B1007</td>\n      <td>-80.577366</td>\n      <td>28.561857</td>\n    </tr>\n    <tr>\n      <th>12</th>\n      <td>16</td>\n      <td>2014-08-05</td>\n      <td>Falcon 9</td>\n      <td>4535.00</td>\n      <td>GTO</td>\n      <td>CCSFS SLC 40</td>\n      <td>None None</td>\n      <td>1</td>\n      <td>False</td>\n      <td>False</td>\n      <td>False</td>\n      <td>NaN</td>\n      <td>1.0</td>\n      <td>0</td>\n      <td>B1008</td>\n      <td>-80.577366</td>\n      <td>28.561857</td>\n    </tr>\n    <tr>\n      <th>13</th>\n      <td>17</td>\n      <td>2014-09-07</td>\n      <td>Falcon 9</td>\n      <td>4428.00</td>\n      <td>GTO</td>\n      <td>CCSFS SLC 40</td>\n      <td>None None</td>\n      <td>1</td>\n      <td>False</td>\n      <td>False</td>\n      <td>False</td>\n      <td>NaN</td>\n      <td>1.0</td>\n      <td>0</td>\n      <td>B1011</td>\n      <td>-80.577366</td>\n      <td>28.561857</td>\n    </tr>\n    <tr>\n      <th>14</th>\n      <td>18</td>\n      <td>2014-09-21</td>\n      <td>Falcon 9</td>\n      <td>2216.00</td>\n      <td>ISS</td>\n      <td>CCSFS SLC 40</td>\n      <td>False Ocean</td>\n      <td>1</td>\n      <td>False</td>\n      <td>False</td>\n      <td>False</td>\n      <td>NaN</td>\n      <td>1.0</td>\n      <td>0</td>\n      <td>B1010</td>\n      <td>-80.577366</td>\n      <td>28.561857</td>\n    </tr>\n    <tr>\n      <th>16</th>\n      <td>20</td>\n      <td>2015-02-11</td>\n      <td>Falcon 9</td>\n      <td>570.00</td>\n      <td>ES-L1</td>\n      <td>CCSFS SLC 40</td>\n      <td>True Ocean</td>\n      <td>1</td>\n      <td>True</td>\n      <td>False</td>\n      <td>True</td>\n      <td>NaN</td>\n      <td>1.0</td>\n      <td>0</td>\n      <td>B1013</td>\n      <td>-80.577366</td>\n      <td>28.561857</td>\n    </tr>\n    <tr>\n      <th>18</th>\n      <td>23</td>\n      <td>2015-04-27</td>\n      <td>Falcon 9</td>\n      <td>4707.00</td>\n      <td>GTO</td>\n      <td>CCSFS SLC 40</td>\n      <td>None None</td>\n      <td>1</td>\n      <td>False</td>\n      <td>False</td>\n      <td>False</td>\n      <td>NaN</td>\n      <td>1.0</td>\n      <td>0</td>\n      <td>B1016</td>\n      <td>-80.577366</td>\n      <td>28.561857</td>\n    </tr>\n    <tr>\n      <th>31</th>\n      <td>37</td>\n      <td>2017-03-16</td>\n      <td>Falcon 9</td>\n      <td>5600.00</td>\n      <td>GTO</td>\n      <td>KSC LC 39A</td>\n      <td>None None</td>\n      <td>1</td>\n      <td>False</td>\n      <td>False</td>\n      <td>False</td>\n      <td>NaN</td>\n      <td>3.0</td>\n      <td>0</td>\n      <td>B1030</td>\n      <td>-80.603956</td>\n      <td>28.608058</td>\n    </tr>\n    <tr>\n      <th>33</th>\n      <td>39</td>\n      <td>2017-05-01</td>\n      <td>Falcon 9</td>\n      <td>NaN</td>\n      <td>LEO</td>\n      <td>KSC LC 39A</td>\n      <td>True RTLS</td>\n      <td>1</td>\n      <td>True</td>\n      <td>False</td>\n      <td>True</td>\n      <td>5e9e3032383ecb267a34e7c7</td>\n      <td>3.0</td>\n      <td>1</td>\n      <td>B1032</td>\n      <td>-80.603956</td>\n      <td>28.608058</td>\n    </tr>\n    <tr>\n      <th>34</th>\n      <td>40</td>\n      <td>2017-05-15</td>\n      <td>Falcon 9</td>\n      <td>6070.00</td>\n      <td>GTO</td>\n      <td>KSC LC 39A</td>\n      <td>None None</td>\n      <td>1</td>\n      <td>False</td>\n      <td>False</td>\n      <td>False</td>\n      <td>NaN</td>\n      <td>3.0</td>\n      <td>0</td>\n      <td>B1034</td>\n      <td>-80.603956</td>\n      <td>28.608058</td>\n    </tr>\n    <tr>\n      <th>38</th>\n      <td>44</td>\n      <td>2017-07-05</td>\n      <td>Falcon 9</td>\n      <td>6761.00</td>\n      <td>GTO</td>\n      <td>KSC LC 39A</td>\n      <td>None None</td>\n      <td>1</td>\n      <td>False</td>\n      <td>False</td>\n      <td>False</td>\n      <td>NaN</td>\n      <td>3.0</td>\n      <td>0</td>\n      <td>B1037</td>\n      <td>-80.603956</td>\n      <td>28.608058</td>\n    </tr>\n    <tr>\n      <th>46</th>\n      <td>52</td>\n      <td>2017-12-23</td>\n      <td>Falcon 9</td>\n      <td>9600.00</td>\n      <td>PO</td>\n      <td>VAFB SLC 4E</td>\n      <td>True Ocean</td>\n      <td>2</td>\n      <td>True</td>\n      <td>True</td>\n      <td>False</td>\n      <td>NaN</td>\n      <td>3.0</td>\n      <td>1</td>\n      <td>B1036</td>\n      <td>-120.610829</td>\n      <td>34.632093</td>\n    </tr>\n    <tr>\n      <th>47</th>\n      <td>53</td>\n      <td>2018-01-08</td>\n      <td>Falcon 9</td>\n      <td>NaN</td>\n      <td>LEO</td>\n      <td>CCSFS SLC 40</td>\n      <td>True RTLS</td>\n      <td>1</td>\n      <td>True</td>\n      <td>False</td>\n      <td>True</td>\n      <td>5e9e3032383ecb267a34e7c7</td>\n      <td>4.0</td>\n      <td>1</td>\n      <td>B1043</td>\n      <td>-80.577366</td>\n      <td>28.561857</td>\n    </tr>\n    <tr>\n      <th>48</th>\n      <td>54</td>\n      <td>2018-01-31</td>\n      <td>Falcon 9</td>\n      <td>4230.00</td>\n      <td>GTO</td>\n      <td>CCSFS SLC 40</td>\n      <td>True Ocean</td>\n      <td>2</td>\n      <td>True</td>\n      <td>True</td>\n      <td>True</td>\n      <td>NaN</td>\n      <td>3.0</td>\n      <td>1</td>\n      <td>B1032</td>\n      <td>-80.577366</td>\n      <td>28.561857</td>\n    </tr>\n    <tr>\n      <th>49</th>\n      <td>57</td>\n      <td>2018-03-06</td>\n      <td>Falcon 9</td>\n      <td>6092.00</td>\n      <td>GTO</td>\n      <td>CCSFS SLC 40</td>\n      <td>None None</td>\n      <td>1</td>\n      <td>True</td>\n      <td>False</td>\n      <td>True</td>\n      <td>NaN</td>\n      <td>4.0</td>\n      <td>0</td>\n      <td>B1044</td>\n      <td>-80.577366</td>\n      <td>28.561857</td>\n    </tr>\n    <tr>\n      <th>50</th>\n      <td>58</td>\n      <td>2018-03-30</td>\n      <td>Falcon 9</td>\n      <td>9600.00</td>\n      <td>PO</td>\n      <td>VAFB SLC 4E</td>\n      <td>None None</td>\n      <td>2</td>\n      <td>True</td>\n      <td>True</td>\n      <td>True</td>\n      <td>NaN</td>\n      <td>4.0</td>\n      <td>1</td>\n      <td>B1041</td>\n      <td>-120.610829</td>\n      <td>34.632093</td>\n    </tr>\n    <tr>\n      <th>51</th>\n      <td>59</td>\n      <td>2018-04-02</td>\n      <td>Falcon 9</td>\n      <td>2760.00</td>\n      <td>ISS</td>\n      <td>CCSFS SLC 40</td>\n      <td>None None</td>\n      <td>2</td>\n      <td>True</td>\n      <td>True</td>\n      <td>True</td>\n      <td>NaN</td>\n      <td>4.0</td>\n      <td>1</td>\n      <td>B1039</td>\n      <td>-80.577366</td>\n      <td>28.561857</td>\n    </tr>\n    <tr>\n      <th>54</th>\n      <td>63</td>\n      <td>2018-06-04</td>\n      <td>Falcon 9</td>\n      <td>5383.85</td>\n      <td>GTO</td>\n      <td>CCSFS SLC 40</td>\n      <td>None None</td>\n      <td>2</td>\n      <td>False</td>\n      <td>True</td>\n      <td>False</td>\n      <td>NaN</td>\n      <td>4.0</td>\n      <td>1</td>\n      <td>B1040</td>\n      <td>-80.577366</td>\n      <td>28.561857</td>\n    </tr>\n    <tr>\n      <th>55</th>\n      <td>64</td>\n      <td>2018-06-29</td>\n      <td>Falcon 9</td>\n      <td>2410.00</td>\n      <td>ISS</td>\n      <td>CCSFS SLC 40</td>\n      <td>None None</td>\n      <td>2</td>\n      <td>False</td>\n      <td>True</td>\n      <td>False</td>\n      <td>NaN</td>\n      <td>4.0</td>\n      <td>1</td>\n      <td>B1045</td>\n      <td>-80.577366</td>\n      <td>28.561857</td>\n    </tr>\n    <tr>\n      <th>64</th>\n      <td>73</td>\n      <td>2018-12-23</td>\n      <td>Falcon 9</td>\n      <td>4400.00</td>\n      <td>MEO</td>\n      <td>CCSFS SLC 40</td>\n      <td>None None</td>\n      <td>1</td>\n      <td>False</td>\n      <td>False</td>\n      <td>False</td>\n      <td>NaN</td>\n      <td>5.0</td>\n      <td>0</td>\n      <td>B1054</td>\n      <td>-80.577366</td>\n      <td>28.561857</td>\n    </tr>\n    <tr>\n      <th>71</th>\n      <td>83</td>\n      <td>2019-08-06</td>\n      <td>Falcon 9</td>\n      <td>6500.00</td>\n      <td>GTO</td>\n      <td>CCSFS SLC 40</td>\n      <td>None None</td>\n      <td>3</td>\n      <td>False</td>\n      <td>True</td>\n      <td>False</td>\n      <td>NaN</td>\n      <td>5.0</td>\n      <td>2</td>\n      <td>B1047</td>\n      <td>-80.577366</td>\n      <td>28.561857</td>\n    </tr>\n    <tr>\n      <th>76</th>\n      <td>88</td>\n      <td>2020-01-19</td>\n      <td>Falcon 9</td>\n      <td>NaN</td>\n      <td>SO</td>\n      <td>KSC LC 39A</td>\n      <td>None None</td>\n      <td>4</td>\n      <td>False</td>\n      <td>True</td>\n      <td>False</td>\n      <td>NaN</td>\n      <td>5.0</td>\n      <td>3</td>\n      <td>B1046</td>\n      <td>-80.603956</td>\n      <td>28.608058</td>\n    </tr>\n    <tr>\n      <th>86</th>\n      <td>98</td>\n      <td>2020-07-20</td>\n      <td>Falcon 9</td>\n      <td>NaN</td>\n      <td>GEO</td>\n      <td>CCSFS SLC 40</td>\n      <td>True ASDS</td>\n      <td>2</td>\n      <td>True</td>\n      <td>True</td>\n      <td>True</td>\n      <td>5e9e3033383ecbb9e534e7cc</td>\n      <td>5.0</td>\n      <td>13</td>\n      <td>B1058</td>\n      <td>-80.577366</td>\n      <td>28.561857</td>\n    </tr>\n    <tr>\n      <th>94</th>\n      <td>107</td>\n      <td>2020-11-16</td>\n      <td>Falcon 9</td>\n      <td>NaN</td>\n      <td>ISS</td>\n      <td>KSC LC 39A</td>\n      <td>True ASDS</td>\n      <td>1</td>\n      <td>True</td>\n      <td>False</td>\n      <td>True</td>\n      <td>5e9e3033383ecbb9e534e7cc</td>\n      <td>5.0</td>\n      <td>9</td>\n      <td>B1061</td>\n      <td>-80.603956</td>\n      <td>28.608058</td>\n    </tr>\n    <tr>\n      <th>99</th>\n      <td>112</td>\n      <td>2020-12-19</td>\n      <td>Falcon 9</td>\n      <td>NaN</td>\n      <td>NaN</td>\n      <td>KSC LC 39A</td>\n      <td>True RTLS</td>\n      <td>5</td>\n      <td>True</td>\n      <td>True</td>\n      <td>True</td>\n      <td>5e9e3032383ecb267a34e7c7</td>\n      <td>5.0</td>\n      <td>5</td>\n      <td>B1059</td>\n      <td>-80.603956</td>\n      <td>28.608058</td>\n    </tr>\n    <tr>\n      <th>102</th>\n      <td>115</td>\n      <td>2021-01-24</td>\n      <td>Falcon 9</td>\n      <td>NaN</td>\n      <td>SSO</td>\n      <td>CCSFS SLC 40</td>\n      <td>True ASDS</td>\n      <td>5</td>\n      <td>True</td>\n      <td>True</td>\n      <td>True</td>\n      <td>5e9e3032383ecb6bb234e7ca</td>\n      <td>5.0</td>\n      <td>13</td>\n      <td>B1058</td>\n      <td>-80.577366</td>\n      <td>28.561857</td>\n    </tr>\n    <tr>\n      <th>110</th>\n      <td>123</td>\n      <td>2021-04-23</td>\n      <td>Falcon 9</td>\n      <td>NaN</td>\n      <td>ISS</td>\n      <td>KSC LC 39A</td>\n      <td>True ASDS</td>\n      <td>2</td>\n      <td>True</td>\n      <td>True</td>\n      <td>True</td>\n      <td>5e9e3032383ecb6bb234e7ca</td>\n      <td>5.0</td>\n      <td>9</td>\n      <td>B1061</td>\n      <td>-80.603956</td>\n      <td>28.608058</td>\n    </tr>\n    <tr>\n      <th>118</th>\n      <td>132</td>\n      <td>2021-06-30</td>\n      <td>Falcon 9</td>\n      <td>NaN</td>\n      <td>SSO</td>\n      <td>CCSFS SLC 40</td>\n      <td>True RTLS</td>\n      <td>8</td>\n      <td>True</td>\n      <td>True</td>\n      <td>True</td>\n      <td>5e9e3032383ecb267a34e7c7</td>\n      <td>5.0</td>\n      <td>12</td>\n      <td>B1060</td>\n      <td>-80.577366</td>\n      <td>28.561857</td>\n    </tr>\n    <tr>\n      <th>119</th>\n      <td>133</td>\n      <td>2021-08-29</td>\n      <td>Falcon 9</td>\n      <td>NaN</td>\n      <td>ISS</td>\n      <td>KSC LC 39A</td>\n      <td>True ASDS</td>\n      <td>4</td>\n      <td>True</td>\n      <td>True</td>\n      <td>True</td>\n      <td>5e9e3033383ecb075134e7cd</td>\n      <td>5.0</td>\n      <td>9</td>\n      <td>B1061</td>\n      <td>-80.603956</td>\n      <td>28.608058</td>\n    </tr>\n    <tr>\n      <th>121</th>\n      <td>135</td>\n      <td>2021-09-16</td>\n      <td>Falcon 9</td>\n      <td>NaN</td>\n      <td>LEO</td>\n      <td>KSC LC 39A</td>\n      <td>True ASDS</td>\n      <td>3</td>\n      <td>True</td>\n      <td>True</td>\n      <td>True</td>\n      <td>5e9e3033383ecbb9e534e7cc</td>\n      <td>5.0</td>\n      <td>8</td>\n      <td>B1062</td>\n      <td>-80.603956</td>\n      <td>28.608058</td>\n    </tr>\n    <tr>\n      <th>129</th>\n      <td>143</td>\n      <td>2021-12-21</td>\n      <td>Falcon 9</td>\n      <td>NaN</td>\n      <td>ISS</td>\n      <td>KSC LC 39A</td>\n      <td>True ASDS</td>\n      <td>1</td>\n      <td>True</td>\n      <td>False</td>\n      <td>True</td>\n      <td>5e9e3033383ecbb9e534e7cc</td>\n      <td>5.0</td>\n      <td>1</td>\n      <td>B1069</td>\n      <td>-80.603956</td>\n      <td>28.608058</td>\n    </tr>\n    <tr>\n      <th>131</th>\n      <td>145</td>\n      <td>2022-01-13</td>\n      <td>Falcon 9</td>\n      <td>NaN</td>\n      <td>LEO</td>\n      <td>CCSFS SLC 40</td>\n      <td>True RTLS</td>\n      <td>10</td>\n      <td>True</td>\n      <td>True</td>\n      <td>True</td>\n      <td>5e9e3032383ecb267a34e7c7</td>\n      <td>5.0</td>\n      <td>13</td>\n      <td>B1058</td>\n      <td>-80.577366</td>\n      <td>28.561857</td>\n    </tr>\n    <tr>\n      <th>134</th>\n      <td>148</td>\n      <td>2022-02-02</td>\n      <td>Falcon 9</td>\n      <td>NaN</td>\n      <td>LEO</td>\n      <td>VAFB SLC 4E</td>\n      <td>True RTLS</td>\n      <td>1</td>\n      <td>True</td>\n      <td>False</td>\n      <td>True</td>\n      <td>5e9e3032383ecb554034e7c9</td>\n      <td>5.0</td>\n      <td>3</td>\n      <td>B1071</td>\n      <td>-120.610829</td>\n      <td>34.632093</td>\n    </tr>\n    <tr>\n      <th>141</th>\n      <td>155</td>\n      <td>2022-04-01</td>\n      <td>Falcon 9</td>\n      <td>NaN</td>\n      <td>SSO</td>\n      <td>CCSFS SLC 40</td>\n      <td>True ASDS</td>\n      <td>7</td>\n      <td>True</td>\n      <td>True</td>\n      <td>True</td>\n      <td>5e9e3033383ecbb9e534e7cc</td>\n      <td>5.0</td>\n      <td>9</td>\n      <td>B1061</td>\n      <td>-80.577366</td>\n      <td>28.561857</td>\n    </tr>\n    <tr>\n      <th>142</th>\n      <td>156</td>\n      <td>2022-04-08</td>\n      <td>Falcon 9</td>\n      <td>NaN</td>\n      <td>ISS</td>\n      <td>KSC LC 39A</td>\n      <td>True ASDS</td>\n      <td>5</td>\n      <td>True</td>\n      <td>True</td>\n      <td>True</td>\n      <td>5e9e3033383ecb075134e7cd</td>\n      <td>5.0</td>\n      <td>8</td>\n      <td>B1062</td>\n      <td>-80.603956</td>\n      <td>28.608058</td>\n    </tr>\n    <tr>\n      <th>143</th>\n      <td>157</td>\n      <td>2022-04-17</td>\n      <td>Falcon 9</td>\n      <td>NaN</td>\n      <td>LEO</td>\n      <td>VAFB SLC 4E</td>\n      <td>True RTLS</td>\n      <td>2</td>\n      <td>True</td>\n      <td>True</td>\n      <td>True</td>\n      <td>5e9e3032383ecb554034e7c9</td>\n      <td>5.0</td>\n      <td>3</td>\n      <td>B1071</td>\n      <td>-120.610829</td>\n      <td>34.632093</td>\n    </tr>\n    <tr>\n      <th>145</th>\n      <td>159</td>\n      <td>2022-04-27</td>\n      <td>Falcon 9</td>\n      <td>NaN</td>\n      <td>ISS</td>\n      <td>KSC LC 39A</td>\n      <td>True ASDS</td>\n      <td>4</td>\n      <td>True</td>\n      <td>True</td>\n      <td>True</td>\n      <td>5e9e3033383ecb075134e7cd</td>\n      <td>5.0</td>\n      <td>5</td>\n      <td>B1067</td>\n      <td>-80.603956</td>\n      <td>28.608058</td>\n    </tr>\n    <tr>\n      <th>151</th>\n      <td>165</td>\n      <td>2022-05-25</td>\n      <td>Falcon 9</td>\n      <td>NaN</td>\n      <td>SSO</td>\n      <td>CCSFS SLC 40</td>\n      <td>True RTLS</td>\n      <td>8</td>\n      <td>True</td>\n      <td>True</td>\n      <td>True</td>\n      <td>5e9e3032383ecb267a34e7c7</td>\n      <td>5.0</td>\n      <td>9</td>\n      <td>B1061</td>\n      <td>-80.577366</td>\n      <td>28.561857</td>\n    </tr>\n    <tr>\n      <th>159</th>\n      <td>173</td>\n      <td>2022-07-15</td>\n      <td>Falcon 9</td>\n      <td>NaN</td>\n      <td>ISS</td>\n      <td>KSC LC 39A</td>\n      <td>True ASDS</td>\n      <td>5</td>\n      <td>True</td>\n      <td>True</td>\n      <td>True</td>\n      <td>5e9e3033383ecb075134e7cd</td>\n      <td>5.0</td>\n      <td>5</td>\n      <td>B1067</td>\n      <td>-80.603956</td>\n      <td>28.608058</td>\n    </tr>\n    <tr>\n      <th>171</th>\n      <td>187</td>\n      <td>2022-10-05</td>\n      <td>Falcon 9</td>\n      <td>NaN</td>\n      <td>ISS</td>\n      <td>KSC LC 39A</td>\n      <td>True ASDS</td>\n      <td>1</td>\n      <td>True</td>\n      <td>False</td>\n      <td>True</td>\n      <td>5e9e3033383ecbb9e534e7cc</td>\n      <td>5.0</td>\n      <td>0</td>\n      <td>B1077</td>\n      <td>-80.603956</td>\n      <td>28.608058</td>\n    </tr>\n  </tbody>\n</table>\n</div>"
     },
     "execution_count": 7,
     "metadata": {},
     "output_type": "execute_result"
    }
   ],
   "source": [
    "df[pd.isna(df['LandingPad']) | pd.isna(df['PayloadMass']) | pd.isna(df['Orbit']) ]\n"
   ],
   "metadata": {
    "collapsed": false,
    "ExecuteTime": {
     "end_time": "2023-07-08T09:28:46.652292419Z",
     "start_time": "2023-07-08T09:28:46.631593686Z"
    }
   }
  },
  {
   "cell_type": "code",
   "execution_count": 8,
   "outputs": [
    {
     "data": {
      "text/plain": "Outcome\nTrue ASDS      109\nTrue RTLS       23\nNone None       19\nFalse ASDS       7\nTrue Ocean       5\nFalse Ocean      2\nNone ASDS        2\nFalse RTLS       1\nName: count, dtype: int64"
     },
     "execution_count": 8,
     "metadata": {},
     "output_type": "execute_result"
    }
   ],
   "source": [
    "df.Outcome.value_counts()"
   ],
   "metadata": {
    "collapsed": false,
    "ExecuteTime": {
     "end_time": "2023-07-08T09:28:47.460247497Z",
     "start_time": "2023-07-08T09:28:47.453067975Z"
    }
   }
  },
  {
   "cell_type": "code",
   "execution_count": 9,
   "outputs": [
    {
     "data": {
      "text/plain": "4                           NaN\n5                           NaN\n6                           NaN\n7                           NaN\n8                           NaN\n                 ...           \n167    5e9e3033383ecb075134e7cd\n168    5e9e3032383ecb6bb234e7ca\n169    5e9e3033383ecbb9e534e7cc\n170    5e9e3033383ecbb9e534e7cc\n171    5e9e3033383ecbb9e534e7cc\nName: LandingPad, Length: 168, dtype: object"
     },
     "execution_count": 9,
     "metadata": {},
     "output_type": "execute_result"
    }
   ],
   "source": [
    "df.LandingPad"
   ],
   "metadata": {
    "collapsed": false,
    "ExecuteTime": {
     "end_time": "2023-07-08T09:28:48.078004663Z",
     "start_time": "2023-07-08T09:28:48.070678720Z"
    }
   }
  },
  {
   "cell_type": "code",
   "execution_count": 10,
   "outputs": [
    {
     "data": {
      "text/plain": "    FlightNumber        Date BoosterVersion  PayloadMass  Orbit    LaunchSite  \\\n4              6  2010-06-04       Falcon 9          NaN    LEO  CCSFS SLC 40   \n5              8  2012-05-22       Falcon 9       525.00    LEO  CCSFS SLC 40   \n6             10  2013-03-01       Falcon 9       677.00    ISS  CCSFS SLC 40   \n7             11  2013-09-29       Falcon 9       500.00     PO   VAFB SLC 4E   \n8             12  2013-12-03       Falcon 9      3170.00    GTO  CCSFS SLC 40   \n9             13  2014-01-06       Falcon 9      3325.00    GTO  CCSFS SLC 40   \n10            14  2014-04-18       Falcon 9      2296.00    ISS  CCSFS SLC 40   \n11            15  2014-07-14       Falcon 9      1316.00    LEO  CCSFS SLC 40   \n12            16  2014-08-05       Falcon 9      4535.00    GTO  CCSFS SLC 40   \n13            17  2014-09-07       Falcon 9      4428.00    GTO  CCSFS SLC 40   \n14            18  2014-09-21       Falcon 9      2216.00    ISS  CCSFS SLC 40   \n16            20  2015-02-11       Falcon 9       570.00  ES-L1  CCSFS SLC 40   \n18            23  2015-04-27       Falcon 9      4707.00    GTO  CCSFS SLC 40   \n31            37  2017-03-16       Falcon 9      5600.00    GTO    KSC LC 39A   \n34            40  2017-05-15       Falcon 9      6070.00    GTO    KSC LC 39A   \n38            44  2017-07-05       Falcon 9      6761.00    GTO    KSC LC 39A   \n46            52  2017-12-23       Falcon 9      9600.00     PO   VAFB SLC 4E   \n48            54  2018-01-31       Falcon 9      4230.00    GTO  CCSFS SLC 40   \n49            57  2018-03-06       Falcon 9      6092.00    GTO  CCSFS SLC 40   \n50            58  2018-03-30       Falcon 9      9600.00     PO   VAFB SLC 4E   \n51            59  2018-04-02       Falcon 9      2760.00    ISS  CCSFS SLC 40   \n54            63  2018-06-04       Falcon 9      5383.85    GTO  CCSFS SLC 40   \n55            64  2018-06-29       Falcon 9      2410.00    ISS  CCSFS SLC 40   \n64            73  2018-12-23       Falcon 9      4400.00    MEO  CCSFS SLC 40   \n71            83  2019-08-06       Falcon 9      6500.00    GTO  CCSFS SLC 40   \n76            88  2020-01-19       Falcon 9          NaN     SO    KSC LC 39A   \n\n        Outcome  Flights  GridFins  Reused   Legs LandingPad  Block  \\\n4     None None        1     False   False  False        NaN    1.0   \n5     None None        1     False   False  False        NaN    1.0   \n6     None None        1     False   False  False        NaN    1.0   \n7   False Ocean        1     False   False  False        NaN    1.0   \n8     None None        1     False   False  False        NaN    1.0   \n9     None None        1     False   False  False        NaN    1.0   \n10   True Ocean        1     False   False   True        NaN    1.0   \n11   True Ocean        1     False   False   True        NaN    1.0   \n12    None None        1     False   False  False        NaN    1.0   \n13    None None        1     False   False  False        NaN    1.0   \n14  False Ocean        1     False   False  False        NaN    1.0   \n16   True Ocean        1      True   False   True        NaN    1.0   \n18    None None        1     False   False  False        NaN    1.0   \n31    None None        1     False   False  False        NaN    3.0   \n34    None None        1     False   False  False        NaN    3.0   \n38    None None        1     False   False  False        NaN    3.0   \n46   True Ocean        2      True    True  False        NaN    3.0   \n48   True Ocean        2      True    True   True        NaN    3.0   \n49    None None        1      True   False   True        NaN    4.0   \n50    None None        2      True    True   True        NaN    4.0   \n51    None None        2      True    True   True        NaN    4.0   \n54    None None        2     False    True  False        NaN    4.0   \n55    None None        2     False    True  False        NaN    4.0   \n64    None None        1     False   False  False        NaN    5.0   \n71    None None        3     False    True  False        NaN    5.0   \n76    None None        4     False    True  False        NaN    5.0   \n\n    ReusedCount Serial   Longitude   Latitude  \n4             0  B0003  -80.577366  28.561857  \n5             0  B0005  -80.577366  28.561857  \n6             0  B0007  -80.577366  28.561857  \n7             0  B1003 -120.610829  34.632093  \n8             0  B1004  -80.577366  28.561857  \n9             0  B1005  -80.577366  28.561857  \n10            0  B1006  -80.577366  28.561857  \n11            0  B1007  -80.577366  28.561857  \n12            0  B1008  -80.577366  28.561857  \n13            0  B1011  -80.577366  28.561857  \n14            0  B1010  -80.577366  28.561857  \n16            0  B1013  -80.577366  28.561857  \n18            0  B1016  -80.577366  28.561857  \n31            0  B1030  -80.603956  28.608058  \n34            0  B1034  -80.603956  28.608058  \n38            0  B1037  -80.603956  28.608058  \n46            1  B1036 -120.610829  34.632093  \n48            1  B1032  -80.577366  28.561857  \n49            0  B1044  -80.577366  28.561857  \n50            1  B1041 -120.610829  34.632093  \n51            1  B1039  -80.577366  28.561857  \n54            1  B1040  -80.577366  28.561857  \n55            1  B1045  -80.577366  28.561857  \n64            0  B1054  -80.577366  28.561857  \n71            2  B1047  -80.577366  28.561857  \n76            3  B1046  -80.603956  28.608058  ",
      "text/html": "<div>\n<style scoped>\n    .dataframe tbody tr th:only-of-type {\n        vertical-align: middle;\n    }\n\n    .dataframe tbody tr th {\n        vertical-align: top;\n    }\n\n    .dataframe thead th {\n        text-align: right;\n    }\n</style>\n<table border=\"1\" class=\"dataframe\">\n  <thead>\n    <tr style=\"text-align: right;\">\n      <th></th>\n      <th>FlightNumber</th>\n      <th>Date</th>\n      <th>BoosterVersion</th>\n      <th>PayloadMass</th>\n      <th>Orbit</th>\n      <th>LaunchSite</th>\n      <th>Outcome</th>\n      <th>Flights</th>\n      <th>GridFins</th>\n      <th>Reused</th>\n      <th>Legs</th>\n      <th>LandingPad</th>\n      <th>Block</th>\n      <th>ReusedCount</th>\n      <th>Serial</th>\n      <th>Longitude</th>\n      <th>Latitude</th>\n    </tr>\n  </thead>\n  <tbody>\n    <tr>\n      <th>4</th>\n      <td>6</td>\n      <td>2010-06-04</td>\n      <td>Falcon 9</td>\n      <td>NaN</td>\n      <td>LEO</td>\n      <td>CCSFS SLC 40</td>\n      <td>None None</td>\n      <td>1</td>\n      <td>False</td>\n      <td>False</td>\n      <td>False</td>\n      <td>NaN</td>\n      <td>1.0</td>\n      <td>0</td>\n      <td>B0003</td>\n      <td>-80.577366</td>\n      <td>28.561857</td>\n    </tr>\n    <tr>\n      <th>5</th>\n      <td>8</td>\n      <td>2012-05-22</td>\n      <td>Falcon 9</td>\n      <td>525.00</td>\n      <td>LEO</td>\n      <td>CCSFS SLC 40</td>\n      <td>None None</td>\n      <td>1</td>\n      <td>False</td>\n      <td>False</td>\n      <td>False</td>\n      <td>NaN</td>\n      <td>1.0</td>\n      <td>0</td>\n      <td>B0005</td>\n      <td>-80.577366</td>\n      <td>28.561857</td>\n    </tr>\n    <tr>\n      <th>6</th>\n      <td>10</td>\n      <td>2013-03-01</td>\n      <td>Falcon 9</td>\n      <td>677.00</td>\n      <td>ISS</td>\n      <td>CCSFS SLC 40</td>\n      <td>None None</td>\n      <td>1</td>\n      <td>False</td>\n      <td>False</td>\n      <td>False</td>\n      <td>NaN</td>\n      <td>1.0</td>\n      <td>0</td>\n      <td>B0007</td>\n      <td>-80.577366</td>\n      <td>28.561857</td>\n    </tr>\n    <tr>\n      <th>7</th>\n      <td>11</td>\n      <td>2013-09-29</td>\n      <td>Falcon 9</td>\n      <td>500.00</td>\n      <td>PO</td>\n      <td>VAFB SLC 4E</td>\n      <td>False Ocean</td>\n      <td>1</td>\n      <td>False</td>\n      <td>False</td>\n      <td>False</td>\n      <td>NaN</td>\n      <td>1.0</td>\n      <td>0</td>\n      <td>B1003</td>\n      <td>-120.610829</td>\n      <td>34.632093</td>\n    </tr>\n    <tr>\n      <th>8</th>\n      <td>12</td>\n      <td>2013-12-03</td>\n      <td>Falcon 9</td>\n      <td>3170.00</td>\n      <td>GTO</td>\n      <td>CCSFS SLC 40</td>\n      <td>None None</td>\n      <td>1</td>\n      <td>False</td>\n      <td>False</td>\n      <td>False</td>\n      <td>NaN</td>\n      <td>1.0</td>\n      <td>0</td>\n      <td>B1004</td>\n      <td>-80.577366</td>\n      <td>28.561857</td>\n    </tr>\n    <tr>\n      <th>9</th>\n      <td>13</td>\n      <td>2014-01-06</td>\n      <td>Falcon 9</td>\n      <td>3325.00</td>\n      <td>GTO</td>\n      <td>CCSFS SLC 40</td>\n      <td>None None</td>\n      <td>1</td>\n      <td>False</td>\n      <td>False</td>\n      <td>False</td>\n      <td>NaN</td>\n      <td>1.0</td>\n      <td>0</td>\n      <td>B1005</td>\n      <td>-80.577366</td>\n      <td>28.561857</td>\n    </tr>\n    <tr>\n      <th>10</th>\n      <td>14</td>\n      <td>2014-04-18</td>\n      <td>Falcon 9</td>\n      <td>2296.00</td>\n      <td>ISS</td>\n      <td>CCSFS SLC 40</td>\n      <td>True Ocean</td>\n      <td>1</td>\n      <td>False</td>\n      <td>False</td>\n      <td>True</td>\n      <td>NaN</td>\n      <td>1.0</td>\n      <td>0</td>\n      <td>B1006</td>\n      <td>-80.577366</td>\n      <td>28.561857</td>\n    </tr>\n    <tr>\n      <th>11</th>\n      <td>15</td>\n      <td>2014-07-14</td>\n      <td>Falcon 9</td>\n      <td>1316.00</td>\n      <td>LEO</td>\n      <td>CCSFS SLC 40</td>\n      <td>True Ocean</td>\n      <td>1</td>\n      <td>False</td>\n      <td>False</td>\n      <td>True</td>\n      <td>NaN</td>\n      <td>1.0</td>\n      <td>0</td>\n      <td>B1007</td>\n      <td>-80.577366</td>\n      <td>28.561857</td>\n    </tr>\n    <tr>\n      <th>12</th>\n      <td>16</td>\n      <td>2014-08-05</td>\n      <td>Falcon 9</td>\n      <td>4535.00</td>\n      <td>GTO</td>\n      <td>CCSFS SLC 40</td>\n      <td>None None</td>\n      <td>1</td>\n      <td>False</td>\n      <td>False</td>\n      <td>False</td>\n      <td>NaN</td>\n      <td>1.0</td>\n      <td>0</td>\n      <td>B1008</td>\n      <td>-80.577366</td>\n      <td>28.561857</td>\n    </tr>\n    <tr>\n      <th>13</th>\n      <td>17</td>\n      <td>2014-09-07</td>\n      <td>Falcon 9</td>\n      <td>4428.00</td>\n      <td>GTO</td>\n      <td>CCSFS SLC 40</td>\n      <td>None None</td>\n      <td>1</td>\n      <td>False</td>\n      <td>False</td>\n      <td>False</td>\n      <td>NaN</td>\n      <td>1.0</td>\n      <td>0</td>\n      <td>B1011</td>\n      <td>-80.577366</td>\n      <td>28.561857</td>\n    </tr>\n    <tr>\n      <th>14</th>\n      <td>18</td>\n      <td>2014-09-21</td>\n      <td>Falcon 9</td>\n      <td>2216.00</td>\n      <td>ISS</td>\n      <td>CCSFS SLC 40</td>\n      <td>False Ocean</td>\n      <td>1</td>\n      <td>False</td>\n      <td>False</td>\n      <td>False</td>\n      <td>NaN</td>\n      <td>1.0</td>\n      <td>0</td>\n      <td>B1010</td>\n      <td>-80.577366</td>\n      <td>28.561857</td>\n    </tr>\n    <tr>\n      <th>16</th>\n      <td>20</td>\n      <td>2015-02-11</td>\n      <td>Falcon 9</td>\n      <td>570.00</td>\n      <td>ES-L1</td>\n      <td>CCSFS SLC 40</td>\n      <td>True Ocean</td>\n      <td>1</td>\n      <td>True</td>\n      <td>False</td>\n      <td>True</td>\n      <td>NaN</td>\n      <td>1.0</td>\n      <td>0</td>\n      <td>B1013</td>\n      <td>-80.577366</td>\n      <td>28.561857</td>\n    </tr>\n    <tr>\n      <th>18</th>\n      <td>23</td>\n      <td>2015-04-27</td>\n      <td>Falcon 9</td>\n      <td>4707.00</td>\n      <td>GTO</td>\n      <td>CCSFS SLC 40</td>\n      <td>None None</td>\n      <td>1</td>\n      <td>False</td>\n      <td>False</td>\n      <td>False</td>\n      <td>NaN</td>\n      <td>1.0</td>\n      <td>0</td>\n      <td>B1016</td>\n      <td>-80.577366</td>\n      <td>28.561857</td>\n    </tr>\n    <tr>\n      <th>31</th>\n      <td>37</td>\n      <td>2017-03-16</td>\n      <td>Falcon 9</td>\n      <td>5600.00</td>\n      <td>GTO</td>\n      <td>KSC LC 39A</td>\n      <td>None None</td>\n      <td>1</td>\n      <td>False</td>\n      <td>False</td>\n      <td>False</td>\n      <td>NaN</td>\n      <td>3.0</td>\n      <td>0</td>\n      <td>B1030</td>\n      <td>-80.603956</td>\n      <td>28.608058</td>\n    </tr>\n    <tr>\n      <th>34</th>\n      <td>40</td>\n      <td>2017-05-15</td>\n      <td>Falcon 9</td>\n      <td>6070.00</td>\n      <td>GTO</td>\n      <td>KSC LC 39A</td>\n      <td>None None</td>\n      <td>1</td>\n      <td>False</td>\n      <td>False</td>\n      <td>False</td>\n      <td>NaN</td>\n      <td>3.0</td>\n      <td>0</td>\n      <td>B1034</td>\n      <td>-80.603956</td>\n      <td>28.608058</td>\n    </tr>\n    <tr>\n      <th>38</th>\n      <td>44</td>\n      <td>2017-07-05</td>\n      <td>Falcon 9</td>\n      <td>6761.00</td>\n      <td>GTO</td>\n      <td>KSC LC 39A</td>\n      <td>None None</td>\n      <td>1</td>\n      <td>False</td>\n      <td>False</td>\n      <td>False</td>\n      <td>NaN</td>\n      <td>3.0</td>\n      <td>0</td>\n      <td>B1037</td>\n      <td>-80.603956</td>\n      <td>28.608058</td>\n    </tr>\n    <tr>\n      <th>46</th>\n      <td>52</td>\n      <td>2017-12-23</td>\n      <td>Falcon 9</td>\n      <td>9600.00</td>\n      <td>PO</td>\n      <td>VAFB SLC 4E</td>\n      <td>True Ocean</td>\n      <td>2</td>\n      <td>True</td>\n      <td>True</td>\n      <td>False</td>\n      <td>NaN</td>\n      <td>3.0</td>\n      <td>1</td>\n      <td>B1036</td>\n      <td>-120.610829</td>\n      <td>34.632093</td>\n    </tr>\n    <tr>\n      <th>48</th>\n      <td>54</td>\n      <td>2018-01-31</td>\n      <td>Falcon 9</td>\n      <td>4230.00</td>\n      <td>GTO</td>\n      <td>CCSFS SLC 40</td>\n      <td>True Ocean</td>\n      <td>2</td>\n      <td>True</td>\n      <td>True</td>\n      <td>True</td>\n      <td>NaN</td>\n      <td>3.0</td>\n      <td>1</td>\n      <td>B1032</td>\n      <td>-80.577366</td>\n      <td>28.561857</td>\n    </tr>\n    <tr>\n      <th>49</th>\n      <td>57</td>\n      <td>2018-03-06</td>\n      <td>Falcon 9</td>\n      <td>6092.00</td>\n      <td>GTO</td>\n      <td>CCSFS SLC 40</td>\n      <td>None None</td>\n      <td>1</td>\n      <td>True</td>\n      <td>False</td>\n      <td>True</td>\n      <td>NaN</td>\n      <td>4.0</td>\n      <td>0</td>\n      <td>B1044</td>\n      <td>-80.577366</td>\n      <td>28.561857</td>\n    </tr>\n    <tr>\n      <th>50</th>\n      <td>58</td>\n      <td>2018-03-30</td>\n      <td>Falcon 9</td>\n      <td>9600.00</td>\n      <td>PO</td>\n      <td>VAFB SLC 4E</td>\n      <td>None None</td>\n      <td>2</td>\n      <td>True</td>\n      <td>True</td>\n      <td>True</td>\n      <td>NaN</td>\n      <td>4.0</td>\n      <td>1</td>\n      <td>B1041</td>\n      <td>-120.610829</td>\n      <td>34.632093</td>\n    </tr>\n    <tr>\n      <th>51</th>\n      <td>59</td>\n      <td>2018-04-02</td>\n      <td>Falcon 9</td>\n      <td>2760.00</td>\n      <td>ISS</td>\n      <td>CCSFS SLC 40</td>\n      <td>None None</td>\n      <td>2</td>\n      <td>True</td>\n      <td>True</td>\n      <td>True</td>\n      <td>NaN</td>\n      <td>4.0</td>\n      <td>1</td>\n      <td>B1039</td>\n      <td>-80.577366</td>\n      <td>28.561857</td>\n    </tr>\n    <tr>\n      <th>54</th>\n      <td>63</td>\n      <td>2018-06-04</td>\n      <td>Falcon 9</td>\n      <td>5383.85</td>\n      <td>GTO</td>\n      <td>CCSFS SLC 40</td>\n      <td>None None</td>\n      <td>2</td>\n      <td>False</td>\n      <td>True</td>\n      <td>False</td>\n      <td>NaN</td>\n      <td>4.0</td>\n      <td>1</td>\n      <td>B1040</td>\n      <td>-80.577366</td>\n      <td>28.561857</td>\n    </tr>\n    <tr>\n      <th>55</th>\n      <td>64</td>\n      <td>2018-06-29</td>\n      <td>Falcon 9</td>\n      <td>2410.00</td>\n      <td>ISS</td>\n      <td>CCSFS SLC 40</td>\n      <td>None None</td>\n      <td>2</td>\n      <td>False</td>\n      <td>True</td>\n      <td>False</td>\n      <td>NaN</td>\n      <td>4.0</td>\n      <td>1</td>\n      <td>B1045</td>\n      <td>-80.577366</td>\n      <td>28.561857</td>\n    </tr>\n    <tr>\n      <th>64</th>\n      <td>73</td>\n      <td>2018-12-23</td>\n      <td>Falcon 9</td>\n      <td>4400.00</td>\n      <td>MEO</td>\n      <td>CCSFS SLC 40</td>\n      <td>None None</td>\n      <td>1</td>\n      <td>False</td>\n      <td>False</td>\n      <td>False</td>\n      <td>NaN</td>\n      <td>5.0</td>\n      <td>0</td>\n      <td>B1054</td>\n      <td>-80.577366</td>\n      <td>28.561857</td>\n    </tr>\n    <tr>\n      <th>71</th>\n      <td>83</td>\n      <td>2019-08-06</td>\n      <td>Falcon 9</td>\n      <td>6500.00</td>\n      <td>GTO</td>\n      <td>CCSFS SLC 40</td>\n      <td>None None</td>\n      <td>3</td>\n      <td>False</td>\n      <td>True</td>\n      <td>False</td>\n      <td>NaN</td>\n      <td>5.0</td>\n      <td>2</td>\n      <td>B1047</td>\n      <td>-80.577366</td>\n      <td>28.561857</td>\n    </tr>\n    <tr>\n      <th>76</th>\n      <td>88</td>\n      <td>2020-01-19</td>\n      <td>Falcon 9</td>\n      <td>NaN</td>\n      <td>SO</td>\n      <td>KSC LC 39A</td>\n      <td>None None</td>\n      <td>4</td>\n      <td>False</td>\n      <td>True</td>\n      <td>False</td>\n      <td>NaN</td>\n      <td>5.0</td>\n      <td>3</td>\n      <td>B1046</td>\n      <td>-80.603956</td>\n      <td>28.608058</td>\n    </tr>\n  </tbody>\n</table>\n</div>"
     },
     "execution_count": 10,
     "metadata": {},
     "output_type": "execute_result"
    }
   ],
   "source": [
    "df[pd.isna(df['LandingPad'])]"
   ],
   "metadata": {
    "collapsed": false,
    "ExecuteTime": {
     "end_time": "2023-07-08T09:28:49.976953318Z",
     "start_time": "2023-07-08T09:28:49.915030321Z"
    }
   }
  },
  {
   "cell_type": "code",
   "execution_count": 18,
   "outputs": [],
   "source": [
    "df.loc[:, ('LandingPad', 'PayloadMass', 'Orbit')].fillna(method='bfill', inplace=True)"
   ],
   "metadata": {
    "collapsed": false,
    "ExecuteTime": {
     "end_time": "2023-07-08T09:32:20.200905040Z",
     "start_time": "2023-07-08T09:32:20.196543056Z"
    }
   }
  },
  {
   "cell_type": "code",
   "execution_count": 20,
   "outputs": [
    {
     "data": {
      "text/plain": "0"
     },
     "execution_count": 20,
     "metadata": {},
     "output_type": "execute_result"
    }
   ],
   "source": [
    "df.isnull().sum().sum()"
   ],
   "metadata": {
    "collapsed": false,
    "ExecuteTime": {
     "end_time": "2023-07-08T09:32:27.695094547Z",
     "start_time": "2023-07-08T09:32:27.663501433Z"
    }
   }
  },
  {
   "cell_type": "code",
   "execution_count": 21,
   "outputs": [
    {
     "name": "stdout",
     "output_type": "stream",
     "text": [
      "<class 'pandas.core.frame.DataFrame'>\n",
      "Index: 168 entries, 4 to 171\n",
      "Data columns (total 17 columns):\n",
      " #   Column          Non-Null Count  Dtype  \n",
      "---  ------          --------------  -----  \n",
      " 0   FlightNumber    168 non-null    int64  \n",
      " 1   Date            168 non-null    object \n",
      " 2   BoosterVersion  168 non-null    object \n",
      " 3   PayloadMass     168 non-null    float64\n",
      " 4   Orbit           168 non-null    object \n",
      " 5   LaunchSite      168 non-null    object \n",
      " 6   Outcome         168 non-null    object \n",
      " 7   Flights         168 non-null    int64  \n",
      " 8   GridFins        168 non-null    bool   \n",
      " 9   Reused          168 non-null    bool   \n",
      " 10  Legs            168 non-null    bool   \n",
      " 11  LandingPad      168 non-null    object \n",
      " 12  Block           168 non-null    float64\n",
      " 13  ReusedCount     168 non-null    int64  \n",
      " 14  Serial          168 non-null    object \n",
      " 15  Longitude       168 non-null    float64\n",
      " 16  Latitude        168 non-null    float64\n",
      "dtypes: bool(3), float64(4), int64(3), object(7)\n",
      "memory usage: 20.2+ KB\n"
     ]
    }
   ],
   "source": [
    "df.info()"
   ],
   "metadata": {
    "collapsed": false,
    "ExecuteTime": {
     "end_time": "2023-07-08T09:32:46.355106506Z",
     "start_time": "2023-07-08T09:32:46.312847261Z"
    }
   }
  },
  {
   "cell_type": "code",
   "execution_count": 22,
   "outputs": [
    {
     "data": {
      "text/plain": "     FlightNumber        Date BoosterVersion  PayloadMass Orbit    LaunchSite  \\\n4               6  2010-06-04       Falcon 9        525.0   LEO  CCSFS SLC 40   \n5               8  2012-05-22       Falcon 9        525.0   LEO  CCSFS SLC 40   \n6              10  2013-03-01       Falcon 9        677.0   ISS  CCSFS SLC 40   \n7              11  2013-09-29       Falcon 9        500.0    PO   VAFB SLC 4E   \n8              12  2013-12-03       Falcon 9       3170.0   GTO  CCSFS SLC 40   \n..            ...         ...            ...          ...   ...           ...   \n167           181  2022-08-28       Falcon 9      13260.0  VLEO    KSC LC 39A   \n168           182  2022-08-31       Falcon 9      13260.0  VLEO   VAFB SLC 4E   \n169           185  2022-09-17       Falcon 9      13260.0  VLEO  CCSFS SLC 40   \n170           186  2022-09-24       Falcon 9      13260.0  VLEO  CCSFS SLC 40   \n171           187  2022-10-05       Falcon 9      13260.0   ISS    KSC LC 39A   \n\n         Outcome  Flights  GridFins  Reused   Legs                LandingPad  \\\n4      None None        1     False   False  False  5e9e3032383ecb761634e7cb   \n5      None None        1     False   False  False  5e9e3032383ecb761634e7cb   \n6      None None        1     False   False  False  5e9e3032383ecb761634e7cb   \n7    False Ocean        1     False   False  False  5e9e3032383ecb761634e7cb   \n8      None None        1     False   False  False  5e9e3032383ecb761634e7cb   \n..           ...      ...       ...     ...    ...                       ...   \n167    True ASDS        2      True    True   True  5e9e3033383ecb075134e7cd   \n168    True ASDS        7      True    True   True  5e9e3032383ecb6bb234e7ca   \n169    True ASDS        6      True    True   True  5e9e3033383ecbb9e534e7cc   \n170    True ASDS        4      True    True   True  5e9e3033383ecbb9e534e7cc   \n171    True ASDS        1      True   False   True  5e9e3033383ecbb9e534e7cc   \n\n     Block  ReusedCount Serial   Longitude   Latitude  \n4      1.0            0  B0003  -80.577366  28.561857  \n5      1.0            0  B0005  -80.577366  28.561857  \n6      1.0            0  B0007  -80.577366  28.561857  \n7      1.0            0  B1003 -120.610829  34.632093  \n8      1.0            0  B1004  -80.577366  28.561857  \n..     ...          ...    ...         ...        ...  \n167    5.0            1  B1069  -80.603956  28.608058  \n168    5.0            6  B1063 -120.610829  34.632093  \n169    5.0            5  B1067  -80.577366  28.561857  \n170    5.0            0  B1072  -80.577366  28.561857  \n171    5.0            0  B1077  -80.603956  28.608058  \n\n[168 rows x 17 columns]",
      "text/html": "<div>\n<style scoped>\n    .dataframe tbody tr th:only-of-type {\n        vertical-align: middle;\n    }\n\n    .dataframe tbody tr th {\n        vertical-align: top;\n    }\n\n    .dataframe thead th {\n        text-align: right;\n    }\n</style>\n<table border=\"1\" class=\"dataframe\">\n  <thead>\n    <tr style=\"text-align: right;\">\n      <th></th>\n      <th>FlightNumber</th>\n      <th>Date</th>\n      <th>BoosterVersion</th>\n      <th>PayloadMass</th>\n      <th>Orbit</th>\n      <th>LaunchSite</th>\n      <th>Outcome</th>\n      <th>Flights</th>\n      <th>GridFins</th>\n      <th>Reused</th>\n      <th>Legs</th>\n      <th>LandingPad</th>\n      <th>Block</th>\n      <th>ReusedCount</th>\n      <th>Serial</th>\n      <th>Longitude</th>\n      <th>Latitude</th>\n    </tr>\n  </thead>\n  <tbody>\n    <tr>\n      <th>4</th>\n      <td>6</td>\n      <td>2010-06-04</td>\n      <td>Falcon 9</td>\n      <td>525.0</td>\n      <td>LEO</td>\n      <td>CCSFS SLC 40</td>\n      <td>None None</td>\n      <td>1</td>\n      <td>False</td>\n      <td>False</td>\n      <td>False</td>\n      <td>5e9e3032383ecb761634e7cb</td>\n      <td>1.0</td>\n      <td>0</td>\n      <td>B0003</td>\n      <td>-80.577366</td>\n      <td>28.561857</td>\n    </tr>\n    <tr>\n      <th>5</th>\n      <td>8</td>\n      <td>2012-05-22</td>\n      <td>Falcon 9</td>\n      <td>525.0</td>\n      <td>LEO</td>\n      <td>CCSFS SLC 40</td>\n      <td>None None</td>\n      <td>1</td>\n      <td>False</td>\n      <td>False</td>\n      <td>False</td>\n      <td>5e9e3032383ecb761634e7cb</td>\n      <td>1.0</td>\n      <td>0</td>\n      <td>B0005</td>\n      <td>-80.577366</td>\n      <td>28.561857</td>\n    </tr>\n    <tr>\n      <th>6</th>\n      <td>10</td>\n      <td>2013-03-01</td>\n      <td>Falcon 9</td>\n      <td>677.0</td>\n      <td>ISS</td>\n      <td>CCSFS SLC 40</td>\n      <td>None None</td>\n      <td>1</td>\n      <td>False</td>\n      <td>False</td>\n      <td>False</td>\n      <td>5e9e3032383ecb761634e7cb</td>\n      <td>1.0</td>\n      <td>0</td>\n      <td>B0007</td>\n      <td>-80.577366</td>\n      <td>28.561857</td>\n    </tr>\n    <tr>\n      <th>7</th>\n      <td>11</td>\n      <td>2013-09-29</td>\n      <td>Falcon 9</td>\n      <td>500.0</td>\n      <td>PO</td>\n      <td>VAFB SLC 4E</td>\n      <td>False Ocean</td>\n      <td>1</td>\n      <td>False</td>\n      <td>False</td>\n      <td>False</td>\n      <td>5e9e3032383ecb761634e7cb</td>\n      <td>1.0</td>\n      <td>0</td>\n      <td>B1003</td>\n      <td>-120.610829</td>\n      <td>34.632093</td>\n    </tr>\n    <tr>\n      <th>8</th>\n      <td>12</td>\n      <td>2013-12-03</td>\n      <td>Falcon 9</td>\n      <td>3170.0</td>\n      <td>GTO</td>\n      <td>CCSFS SLC 40</td>\n      <td>None None</td>\n      <td>1</td>\n      <td>False</td>\n      <td>False</td>\n      <td>False</td>\n      <td>5e9e3032383ecb761634e7cb</td>\n      <td>1.0</td>\n      <td>0</td>\n      <td>B1004</td>\n      <td>-80.577366</td>\n      <td>28.561857</td>\n    </tr>\n    <tr>\n      <th>...</th>\n      <td>...</td>\n      <td>...</td>\n      <td>...</td>\n      <td>...</td>\n      <td>...</td>\n      <td>...</td>\n      <td>...</td>\n      <td>...</td>\n      <td>...</td>\n      <td>...</td>\n      <td>...</td>\n      <td>...</td>\n      <td>...</td>\n      <td>...</td>\n      <td>...</td>\n      <td>...</td>\n      <td>...</td>\n    </tr>\n    <tr>\n      <th>167</th>\n      <td>181</td>\n      <td>2022-08-28</td>\n      <td>Falcon 9</td>\n      <td>13260.0</td>\n      <td>VLEO</td>\n      <td>KSC LC 39A</td>\n      <td>True ASDS</td>\n      <td>2</td>\n      <td>True</td>\n      <td>True</td>\n      <td>True</td>\n      <td>5e9e3033383ecb075134e7cd</td>\n      <td>5.0</td>\n      <td>1</td>\n      <td>B1069</td>\n      <td>-80.603956</td>\n      <td>28.608058</td>\n    </tr>\n    <tr>\n      <th>168</th>\n      <td>182</td>\n      <td>2022-08-31</td>\n      <td>Falcon 9</td>\n      <td>13260.0</td>\n      <td>VLEO</td>\n      <td>VAFB SLC 4E</td>\n      <td>True ASDS</td>\n      <td>7</td>\n      <td>True</td>\n      <td>True</td>\n      <td>True</td>\n      <td>5e9e3032383ecb6bb234e7ca</td>\n      <td>5.0</td>\n      <td>6</td>\n      <td>B1063</td>\n      <td>-120.610829</td>\n      <td>34.632093</td>\n    </tr>\n    <tr>\n      <th>169</th>\n      <td>185</td>\n      <td>2022-09-17</td>\n      <td>Falcon 9</td>\n      <td>13260.0</td>\n      <td>VLEO</td>\n      <td>CCSFS SLC 40</td>\n      <td>True ASDS</td>\n      <td>6</td>\n      <td>True</td>\n      <td>True</td>\n      <td>True</td>\n      <td>5e9e3033383ecbb9e534e7cc</td>\n      <td>5.0</td>\n      <td>5</td>\n      <td>B1067</td>\n      <td>-80.577366</td>\n      <td>28.561857</td>\n    </tr>\n    <tr>\n      <th>170</th>\n      <td>186</td>\n      <td>2022-09-24</td>\n      <td>Falcon 9</td>\n      <td>13260.0</td>\n      <td>VLEO</td>\n      <td>CCSFS SLC 40</td>\n      <td>True ASDS</td>\n      <td>4</td>\n      <td>True</td>\n      <td>True</td>\n      <td>True</td>\n      <td>5e9e3033383ecbb9e534e7cc</td>\n      <td>5.0</td>\n      <td>0</td>\n      <td>B1072</td>\n      <td>-80.577366</td>\n      <td>28.561857</td>\n    </tr>\n    <tr>\n      <th>171</th>\n      <td>187</td>\n      <td>2022-10-05</td>\n      <td>Falcon 9</td>\n      <td>13260.0</td>\n      <td>ISS</td>\n      <td>KSC LC 39A</td>\n      <td>True ASDS</td>\n      <td>1</td>\n      <td>True</td>\n      <td>False</td>\n      <td>True</td>\n      <td>5e9e3033383ecbb9e534e7cc</td>\n      <td>5.0</td>\n      <td>0</td>\n      <td>B1077</td>\n      <td>-80.603956</td>\n      <td>28.608058</td>\n    </tr>\n  </tbody>\n</table>\n<p>168 rows × 17 columns</p>\n</div>"
     },
     "execution_count": 22,
     "metadata": {},
     "output_type": "execute_result"
    }
   ],
   "source": [
    "df"
   ],
   "metadata": {
    "collapsed": false,
    "ExecuteTime": {
     "end_time": "2023-07-08T09:32:52.575564909Z",
     "start_time": "2023-07-08T09:32:52.562425847Z"
    }
   }
  },
  {
   "cell_type": "code",
   "execution_count": 25,
   "outputs": [],
   "source": [
    "df.loc[:, 'Date'] = pd.to_datetime(df.Date)"
   ],
   "metadata": {
    "collapsed": false
   }
  },
  {
   "cell_type": "code",
   "execution_count": 27,
   "outputs": [],
   "source": [
    "df.loc[:, 'year'] = df['Date'].dt.year.astype('int32')\n",
    "df.loc[:, 'month'] = df['Date'].dt.month.astype('int32')\n",
    "df.loc[:, 'day'] = df['Date'].dt.day.astype('int32')"
   ],
   "metadata": {
    "collapsed": false
   }
  },
  {
   "cell_type": "code",
   "execution_count": 28,
   "outputs": [],
   "source": [
    "df"
   ],
   "metadata": {
    "collapsed": false
   }
  },
  {
   "cell_type": "code",
   "execution_count": 29,
   "outputs": [],
   "source": [
    "df.info()"
   ],
   "metadata": {
    "collapsed": false
   }
  },
  {
   "cell_type": "code",
   "execution_count": null,
   "outputs": [],
   "source": [],
   "metadata": {
    "collapsed": false
   }
  }
 ],
 "metadata": {
  "kernelspec": {
   "display_name": "Python 3",
   "language": "python",
   "name": "python3"
  },
  "language_info": {
   "codemirror_mode": {
    "name": "ipython",
    "version": 2
   },
   "file_extension": ".py",
   "mimetype": "text/x-python",
   "name": "python",
   "nbconvert_exporter": "python",
   "pygments_lexer": "ipython2",
   "version": "2.7.6"
  }
 },
 "nbformat": 4,
 "nbformat_minor": 0
}
